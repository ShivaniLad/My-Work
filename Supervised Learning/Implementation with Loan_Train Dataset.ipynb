{
 "cells": [
  {
   "cell_type": "markdown",
   "metadata": {
    "colab_type": "text",
    "id": "view-in-github"
   },
   "source": [
    "<a href=\"https://colab.research.google.com/github/ShivaniLad/My-Work/blob/main/practice.ipynb\" target=\"_parent\"><img src=\"https://colab.research.google.com/assets/colab-badge.svg\" alt=\"Open In Colab\"/></a>"
   ]
  },
  {
   "cell_type": "markdown",
   "metadata": {
    "id": "3UP1-0bwCrOE"
   },
   "source": [
    "# Implementation with Loan Train Dataset"
   ]
  },
  {
   "cell_type": "markdown",
   "metadata": {
    "id": "F5_HNmOFtEr3"
   },
   "source": [
    "## Mounting with Drive"
   ]
  },
  {
   "cell_type": "code",
   "execution_count": 2,
   "metadata": {
    "colab": {
     "base_uri": "https://localhost:8080/"
    },
    "id": "FvMO3AtmjnAA",
    "outputId": "c2c1922a-e4ef-41fd-96c5-698adf0094a6"
   },
   "outputs": [],
   "source": [
    "# mounting the drive\n",
    "#from google.colab import drive\n",
    "#drive.mount('/content/drive')"
   ]
  },
  {
   "cell_type": "code",
   "execution_count": null,
   "metadata": {},
   "outputs": [],
   "source": []
  },
  {
   "cell_type": "markdown",
   "metadata": {
    "id": "b93JHLYntLvb"
   },
   "source": [
    "## Importing Libraries"
   ]
  },
  {
   "cell_type": "code",
   "execution_count": 3,
   "metadata": {
    "id": "_wy62s1RkEKD"
   },
   "outputs": [
    {
     "ename": "ModuleNotFoundError",
     "evalue": "No module named 'seaborn'",
     "output_type": "error",
     "traceback": [
      "\u001b[1;31m---------------------------------------------------------------------------\u001b[0m",
      "\u001b[1;31mModuleNotFoundError\u001b[0m                       Traceback (most recent call last)",
      "\u001b[1;32m~\\AppData\\Local\\Temp/ipykernel_11696/1282948147.py\u001b[0m in \u001b[0;36m<module>\u001b[1;34m\u001b[0m\n\u001b[0;32m      6\u001b[0m \u001b[1;32mfrom\u001b[0m \u001b[0msklearn\u001b[0m\u001b[1;33m.\u001b[0m\u001b[0mmetrics\u001b[0m \u001b[1;32mimport\u001b[0m \u001b[0maccuracy_score\u001b[0m\u001b[1;33m,\u001b[0m \u001b[0mconfusion_matrix\u001b[0m\u001b[1;33m,\u001b[0m \u001b[0mr2_score\u001b[0m\u001b[1;33m,\u001b[0m \u001b[0mclassification_report\u001b[0m\u001b[1;33m\u001b[0m\u001b[1;33m\u001b[0m\u001b[0m\n\u001b[0;32m      7\u001b[0m \u001b[1;32mfrom\u001b[0m \u001b[0msklearn\u001b[0m\u001b[1;33m.\u001b[0m\u001b[0mlinear_model\u001b[0m \u001b[1;32mimport\u001b[0m \u001b[0mLinearRegression\u001b[0m\u001b[1;33m,\u001b[0m \u001b[0mLogisticRegression\u001b[0m\u001b[1;33m\u001b[0m\u001b[1;33m\u001b[0m\u001b[0m\n\u001b[1;32m----> 8\u001b[1;33m \u001b[1;32mimport\u001b[0m \u001b[0mseaborn\u001b[0m \u001b[1;32mas\u001b[0m \u001b[0msns\u001b[0m\u001b[1;33m\u001b[0m\u001b[1;33m\u001b[0m\u001b[0m\n\u001b[0m\u001b[0;32m      9\u001b[0m \u001b[1;32mimport\u001b[0m \u001b[0mmatplotlib\u001b[0m\u001b[1;33m.\u001b[0m\u001b[0mpyplot\u001b[0m \u001b[1;32mas\u001b[0m \u001b[0mplt\u001b[0m\u001b[1;33m\u001b[0m\u001b[1;33m\u001b[0m\u001b[0m\n",
      "\u001b[1;31mModuleNotFoundError\u001b[0m: No module named 'seaborn'"
     ]
    }
   ],
   "source": [
    "# importing the libraries\n",
    "import pandas as pd\n",
    "from sklearn.preprocessing import LabelEncoder\n",
    "from sklearn.tree import DecisionTreeClassifier\n",
    "from sklearn.model_selection import train_test_split\n",
    "from sklearn.metrics import accuracy_score, confusion_matrix, r2_score, classification_report\n",
    "from sklearn.linear_model import LinearRegression, LogisticRegression\n",
    "import seaborn as sns\n",
    "import matplotlib.pyplot as plt"
   ]
  },
  {
   "cell_type": "markdown",
   "metadata": {
    "id": "h-mbtis6tqZU"
   },
   "source": [
    "## Loading the data"
   ]
  },
  {
   "cell_type": "code",
   "execution_count": null,
   "metadata": {
    "colab": {
     "base_uri": "https://localhost:8080/",
     "height": 419
    },
    "id": "jU6K3MYH3gTV",
    "outputId": "97df70e5-90e2-4b8e-9c56-76ddb9b05cb2"
   },
   "outputs": [],
   "source": [
    "# loading the data\n",
    "#data = pd.read_csv(\"/content/drive/MyDrive/1Rivet/ML & Python/Case Studies/First/loan_train.csv\")\n",
    "data = pd.read_csv(\"/Datasets/loan_train.csv\")\n",
    "data"
   ]
  },
  {
   "cell_type": "code",
   "execution_count": null,
   "metadata": {
    "colab": {
     "base_uri": "https://localhost:8080/",
     "height": 419
    },
    "id": "NwN1xojg4DRt",
    "outputId": "6b27a22e-e28d-4bf5-9db2-d3ed1aa246d3"
   },
   "outputs": [],
   "source": [
    "# dropping the unused column\n",
    "data = data.drop(['Unnamed: 0'], axis= 1)\n",
    "data"
   ]
  },
  {
   "cell_type": "markdown",
   "metadata": {
    "id": "dEFJ-riStUTl"
   },
   "source": [
    "## Data Preprocessing"
   ]
  },
  {
   "cell_type": "code",
   "execution_count": null,
   "metadata": {
    "colab": {
     "base_uri": "https://localhost:8080/"
    },
    "id": "F3oSeUhZ4XKt",
    "outputId": "f54a97eb-eeae-4d38-fd4e-d2c7a66e1ecd"
   },
   "outputs": [],
   "source": [
    "data.isna().count()"
   ]
  },
  {
   "cell_type": "code",
   "execution_count": null,
   "metadata": {
    "colab": {
     "base_uri": "https://localhost:8080/",
     "height": 297
    },
    "id": "1bRhmOhUj6Qs",
    "outputId": "0ac34bf8-cf0d-48e8-c9b0-8a21986598c4"
   },
   "outputs": [],
   "source": [
    "data.describe()"
   ]
  },
  {
   "cell_type": "code",
   "execution_count": null,
   "metadata": {
    "colab": {
     "base_uri": "https://localhost:8080/"
    },
    "id": "G_T-E3hd5rPm",
    "outputId": "18a14a8f-b3d0-4949-e92b-cc38513e6d4d"
   },
   "outputs": [],
   "source": [
    "data.info()\n"
   ]
  },
  {
   "cell_type": "code",
   "execution_count": null,
   "metadata": {
    "colab": {
     "base_uri": "https://localhost:8080/"
    },
    "id": "rgxcCSfGnO_F",
    "outputId": "6280b6d4-d0b4-4d45-d809-d905710fa6b1"
   },
   "outputs": [],
   "source": [
    "data['education'].unique()"
   ]
  },
  {
   "cell_type": "code",
   "execution_count": null,
   "metadata": {
    "id": "umU-rYh0nvpb"
   },
   "outputs": [],
   "source": [
    "le = LabelEncoder()\n",
    "data['education'] = le.fit_transform(data['education'])"
   ]
  },
  {
   "cell_type": "code",
   "execution_count": null,
   "metadata": {
    "colab": {
     "base_uri": "https://localhost:8080/"
    },
    "id": "QB9uWWNxrIlw",
    "outputId": "59659949-5299-4c4c-8697-091eaee99c64"
   },
   "outputs": [],
   "source": [
    "data['loan_status'].unique()\n"
   ]
  },
  {
   "cell_type": "code",
   "execution_count": null,
   "metadata": {
    "id": "V8PZIhOrrXGs"
   },
   "outputs": [],
   "source": [
    "data['loan_status'] = le.fit_transform(data['loan_status'])\n",
    "data['Gender'] = le.fit_transform(data['Gender'])"
   ]
  },
  {
   "cell_type": "code",
   "execution_count": null,
   "metadata": {
    "colab": {
     "base_uri": "https://localhost:8080/",
     "height": 419
    },
    "id": "4sK1Uq5Crkd7",
    "outputId": "9792bce1-de10-4c7e-b425-624de29c8921"
   },
   "outputs": [],
   "source": [
    "data"
   ]
  },
  {
   "cell_type": "code",
   "execution_count": null,
   "metadata": {
    "colab": {
     "base_uri": "https://localhost:8080/"
    },
    "id": "gbBq9GGGrldb",
    "outputId": "96026c7f-807c-4ae7-bde3-c4dffa7650b8"
   },
   "outputs": [],
   "source": [
    "data['due_date'].unique()"
   ]
  },
  {
   "cell_type": "code",
   "execution_count": null,
   "metadata": {
    "colab": {
     "base_uri": "https://localhost:8080/"
    },
    "id": "9xxZhKUur4ja",
    "outputId": "ebfeda34-7765-4b0b-fe12-414d2f5db51e"
   },
   "outputs": [],
   "source": [
    "data['effective_date'].unique()"
   ]
  },
  {
   "cell_type": "code",
   "execution_count": null,
   "metadata": {
    "id": "uerODrvRr_gQ"
   },
   "outputs": [],
   "source": [
    "data['effective_date'] = pd.to_datetime(data['effective_date'])"
   ]
  },
  {
   "cell_type": "code",
   "execution_count": null,
   "metadata": {
    "colab": {
     "base_uri": "https://localhost:8080/",
     "height": 419
    },
    "id": "8R9pJGJVsciS",
    "outputId": "51ee46c7-86a8-4a93-fc1e-e99a96165426"
   },
   "outputs": [],
   "source": [
    "data"
   ]
  },
  {
   "cell_type": "code",
   "execution_count": null,
   "metadata": {
    "id": "UWgg_qQrsdj6"
   },
   "outputs": [],
   "source": [
    "data['due_date'] = pd.to_datetime(data['due_date'])"
   ]
  },
  {
   "cell_type": "code",
   "execution_count": null,
   "metadata": {
    "colab": {
     "base_uri": "https://localhost:8080/",
     "height": 419
    },
    "id": "5UMn4RcIsnKS",
    "outputId": "f524ba5c-79ca-41e0-c18d-e9e94e533e56"
   },
   "outputs": [],
   "source": [
    "data"
   ]
  },
  {
   "cell_type": "code",
   "execution_count": null,
   "metadata": {
    "colab": {
     "base_uri": "https://localhost:8080/",
     "height": 419
    },
    "id": "fcwH73-Czi0B",
    "outputId": "b9024dde-aa90-4ba6-a397-b043a4972da0"
   },
   "outputs": [],
   "source": [
    "# Removing unneccesary data column\n",
    "\n",
    "data = data.drop(['effective_date'], axis= 1)\n",
    "data = data.drop(['due_date'], axis= 1)\n",
    "data"
   ]
  },
  {
   "cell_type": "markdown",
   "metadata": {
    "id": "AwbP86P0DUB8"
   },
   "source": [
    "## Co-relating the data"
   ]
  },
  {
   "cell_type": "code",
   "execution_count": null,
   "metadata": {
    "colab": {
     "base_uri": "https://localhost:8080/",
     "height": 468
    },
    "id": "UW4CgeBFDTgk",
    "outputId": "0ecd4ff9-f574-4f58-f13f-924c75a3e506"
   },
   "outputs": [],
   "source": [
    "# corelation matrix for the data\n",
    "cm = data.corr()\n",
    "\n",
    "# Heatmap for corelation matrix\n",
    "plt.figure(figsize= (10,6))\n",
    "plt.title(\"Heatmap for corelation matrix of data\")\n",
    "sns.heatmap(cm, annot= True)"
   ]
  },
  {
   "cell_type": "markdown",
   "metadata": {
    "id": "xerGQbfPG7HU"
   },
   "source": [
    "Highest correlation is seen between Principal and Terms"
   ]
  },
  {
   "cell_type": "markdown",
   "metadata": {
    "id": "2N843eB206Nl"
   },
   "source": [
    "## Splitting the data"
   ]
  },
  {
   "cell_type": "code",
   "execution_count": null,
   "metadata": {
    "id": "Grudhk6v05nL"
   },
   "outputs": [],
   "source": [
    "x = data.drop(['loan_status'], axis= 1)\n",
    "y = data['loan_status']\n",
    "\n",
    "xtrain, xtest, ytrain, ytest = train_test_split(x, y, test_size = 0.2)"
   ]
  },
  {
   "cell_type": "markdown",
   "metadata": {
    "id": "MXfzUahqt_CL"
   },
   "source": [
    "## Decision Tree Classifier"
   ]
  },
  {
   "cell_type": "code",
   "execution_count": null,
   "metadata": {
    "colab": {
     "base_uri": "https://localhost:8080/"
    },
    "id": "yRwmIiT72DoH",
    "outputId": "e28b57dd-0340-4353-812b-24b37e2ff8a4"
   },
   "outputs": [],
   "source": [
    "model = DecisionTreeClassifier(criterion= 'entropy')\n",
    "\n",
    "# fitting the training data into the model\n",
    "model.fit(xtrain, ytrain)\n",
    "\n",
    "# predicting the testing data\n",
    "ypred = model.predict(xtest)\n",
    "\n",
    "# model testing accuracy\n",
    "accuracy_score(ytest, ypred)"
   ]
  },
  {
   "cell_type": "markdown",
   "metadata": {
    "id": "0xybYYZP76Jz"
   },
   "source": [
    "## Linear Regression"
   ]
  },
  {
   "cell_type": "code",
   "execution_count": null,
   "metadata": {
    "colab": {
     "base_uri": "https://localhost:8080/"
    },
    "id": "vyBpzM1G4GJd",
    "outputId": "a7a60ce3-ed71-41d0-ba0d-030f2df0c2e6"
   },
   "outputs": [],
   "source": [
    "model = LinearRegression()\n",
    "\n",
    "# fitting the training data into the model\n",
    "model.fit(xtrain, ytrain)\n",
    "\n",
    "# predicting the testing data\n",
    "ypred = model.predict(xtest)\n",
    "\n",
    "# model testing accuracy\n",
    "r2_score(ytest, ypred)"
   ]
  },
  {
   "cell_type": "markdown",
   "metadata": {
    "id": "dGGseUEjAJuf"
   },
   "source": [
    "## Logistic Regression"
   ]
  },
  {
   "cell_type": "code",
   "execution_count": null,
   "metadata": {
    "colab": {
     "base_uri": "https://localhost:8080/"
    },
    "id": "7MDLnnmuAJAU",
    "outputId": "0d6a06ea-befa-49cd-d84b-1ffdba97a7a9"
   },
   "outputs": [],
   "source": [
    "model = LogisticRegression(max_iter= 500)\n",
    "\n",
    "# fitting the training data into the model\n",
    "model.fit(xtrain, ytrain)\n",
    "\n",
    "# predicting the testing data\n",
    "ypred = model.predict(xtest)\n",
    "\n",
    "# model testing accuracy\n",
    "print(\"\\n Accuracy Score : \\n\",accuracy_score(ytest, ypred))\n",
    "\n",
    "# confusion metrix for the model\n",
    "print(\"\\n Confusion Matrix : \\n\",confusion_matrix(ytest, ypred))\n",
    "\n",
    "# classification report\n",
    "print(\"\\n Classification Report : \\n\",classification_report(ytest, ypred))"
   ]
  }
 ],
 "metadata": {
  "colab": {
   "authorship_tag": "ABX9TyP/MmrafTPqRYzAxXhlGu3e",
   "include_colab_link": true,
   "name": "practice.ipynb",
   "provenance": []
  },
  "kernelspec": {
   "display_name": "Python 3 (ipykernel)",
   "language": "python",
   "name": "python3"
  },
  "language_info": {
   "codemirror_mode": {
    "name": "ipython",
    "version": 3
   },
   "file_extension": ".py",
   "mimetype": "text/x-python",
   "name": "python",
   "nbconvert_exporter": "python",
   "pygments_lexer": "ipython3",
   "version": "3.9.7"
  }
 },
 "nbformat": 4,
 "nbformat_minor": 1
}

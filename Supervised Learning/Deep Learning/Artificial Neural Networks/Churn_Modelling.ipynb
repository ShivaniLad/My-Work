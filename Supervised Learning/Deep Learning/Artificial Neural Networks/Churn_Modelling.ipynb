{
  "nbformat": 4,
  "nbformat_minor": 0,
  "metadata": {
    "colab": {
      "name": "Copy of Churn_Modelling.ipynb",
      "provenance": [],
      "collapsed_sections": [],
      "include_colab_link": true
    },
    "kernelspec": {
      "name": "python3",
      "display_name": "Python 3"
    }
  },
  "cells": [
    {
      "cell_type": "markdown",
      "metadata": {
        "id": "view-in-github",
        "colab_type": "text"
      },
      "source": [
        "<a href=\"https://colab.research.google.com/github/ShivaniLad/My-Work/blob/main/Churn_Modelling.ipynb\" target=\"_parent\"><img src=\"https://colab.research.google.com/assets/colab-badge.svg\" alt=\"Open In Colab\"/></a>"
      ]
    },
    {
      "cell_type": "markdown",
      "metadata": {
        "id": "RfaF9BiifjIf"
      },
      "source": [
        "### Churn Modelling Problem\n",
        "  - This a problem-solving data analytics challenge for a bank.\n",
        "  - Here, we have a dataset, with a large sample of the bank's customers.\n",
        "  - To make this dataset, the bank gathered information such as customer id, credit score, gender, age, tenure, balance, if the customer is active, has a credit card, etc. \n",
        "  - During 6 months, the bank observed if these customers left or stayed in the bank.\n",
        "  <br><br>\n",
        "  - **Goal :** \n",
        "    - To make an Artificial Neural Network that can predict, based on geo-demographical and transactional information given above, if any individual customer will leave the bank or stay (customer churn). \n",
        "    - Besides that, we have to rank all the customers of the bank, based on their probability of leaving. \n",
        "    - To do that, we need to use the right Deep Learning model, one that is based on a probabilistic approach."
      ]
    },
    {
      "cell_type": "markdown",
      "metadata": {
        "id": "_S34U5S-i69d"
      },
      "source": [
        "**Importing the libraries**"
      ]
    },
    {
      "cell_type": "code",
      "metadata": {
        "id": "PYU9RIEWif6n"
      },
      "source": [
        "import numpy as np\n",
        "import pandas as pd\n",
        "\n",
        "import matplotlib.pyplot as plt"
      ],
      "execution_count": null,
      "outputs": []
    },
    {
      "cell_type": "markdown",
      "metadata": {
        "id": "9IZetEZ8jQJm"
      },
      "source": [
        "**Importing the Dataset**"
      ]
    },
    {
      "cell_type": "code",
      "metadata": {
        "id": "r5i-vhRkPyKd",
        "colab": {
          "base_uri": "https://localhost:8080/"
        },
        "outputId": "f31beb63-eb64-4e11-e498-1a2482d4572e"
      },
      "source": [
        "from google.colab import drive\n",
        "drive.mount('/content/drive')"
      ],
      "execution_count": null,
      "outputs": [
        {
          "output_type": "stream",
          "name": "stdout",
          "text": [
            "Drive already mounted at /content/drive; to attempt to forcibly remount, call drive.mount(\"/content/drive\", force_remount=True).\n"
          ]
        }
      ]
    },
    {
      "cell_type": "code",
      "metadata": {
        "id": "rvPXb5V5jPN-",
        "colab": {
          "base_uri": "https://localhost:8080/",
          "height": 173
        },
        "outputId": "b7a37f97-5aa2-4bef-86a8-b7a801b98953"
      },
      "source": [
        "data = pd.read_csv('/content/drive/MyDrive/1Rivet/Data/Churn_Modelling.csv')\n",
        "\n",
        "data.head(4)"
      ],
      "execution_count": null,
      "outputs": [
        {
          "output_type": "execute_result",
          "data": {
            "text/html": [
              "<div>\n",
              "<style scoped>\n",
              "    .dataframe tbody tr th:only-of-type {\n",
              "        vertical-align: middle;\n",
              "    }\n",
              "\n",
              "    .dataframe tbody tr th {\n",
              "        vertical-align: top;\n",
              "    }\n",
              "\n",
              "    .dataframe thead th {\n",
              "        text-align: right;\n",
              "    }\n",
              "</style>\n",
              "<table border=\"1\" class=\"dataframe\">\n",
              "  <thead>\n",
              "    <tr style=\"text-align: right;\">\n",
              "      <th></th>\n",
              "      <th>RowNumber</th>\n",
              "      <th>CustomerId</th>\n",
              "      <th>Surname</th>\n",
              "      <th>CreditScore</th>\n",
              "      <th>Geography</th>\n",
              "      <th>Gender</th>\n",
              "      <th>Age</th>\n",
              "      <th>Tenure</th>\n",
              "      <th>Balance</th>\n",
              "      <th>NumOfProducts</th>\n",
              "      <th>HasCrCard</th>\n",
              "      <th>IsActiveMember</th>\n",
              "      <th>EstimatedSalary</th>\n",
              "      <th>Exited</th>\n",
              "    </tr>\n",
              "  </thead>\n",
              "  <tbody>\n",
              "    <tr>\n",
              "      <th>0</th>\n",
              "      <td>1</td>\n",
              "      <td>15634602</td>\n",
              "      <td>Hargrave</td>\n",
              "      <td>619</td>\n",
              "      <td>France</td>\n",
              "      <td>Female</td>\n",
              "      <td>42</td>\n",
              "      <td>2</td>\n",
              "      <td>0.00</td>\n",
              "      <td>1</td>\n",
              "      <td>1</td>\n",
              "      <td>1</td>\n",
              "      <td>101348.88</td>\n",
              "      <td>1</td>\n",
              "    </tr>\n",
              "    <tr>\n",
              "      <th>1</th>\n",
              "      <td>2</td>\n",
              "      <td>15647311</td>\n",
              "      <td>Hill</td>\n",
              "      <td>608</td>\n",
              "      <td>Spain</td>\n",
              "      <td>Female</td>\n",
              "      <td>41</td>\n",
              "      <td>1</td>\n",
              "      <td>83807.86</td>\n",
              "      <td>1</td>\n",
              "      <td>0</td>\n",
              "      <td>1</td>\n",
              "      <td>112542.58</td>\n",
              "      <td>0</td>\n",
              "    </tr>\n",
              "    <tr>\n",
              "      <th>2</th>\n",
              "      <td>3</td>\n",
              "      <td>15619304</td>\n",
              "      <td>Onio</td>\n",
              "      <td>502</td>\n",
              "      <td>France</td>\n",
              "      <td>Female</td>\n",
              "      <td>42</td>\n",
              "      <td>8</td>\n",
              "      <td>159660.80</td>\n",
              "      <td>3</td>\n",
              "      <td>1</td>\n",
              "      <td>0</td>\n",
              "      <td>113931.57</td>\n",
              "      <td>1</td>\n",
              "    </tr>\n",
              "    <tr>\n",
              "      <th>3</th>\n",
              "      <td>4</td>\n",
              "      <td>15701354</td>\n",
              "      <td>Boni</td>\n",
              "      <td>699</td>\n",
              "      <td>France</td>\n",
              "      <td>Female</td>\n",
              "      <td>39</td>\n",
              "      <td>1</td>\n",
              "      <td>0.00</td>\n",
              "      <td>2</td>\n",
              "      <td>0</td>\n",
              "      <td>0</td>\n",
              "      <td>93826.63</td>\n",
              "      <td>0</td>\n",
              "    </tr>\n",
              "  </tbody>\n",
              "</table>\n",
              "</div>"
            ],
            "text/plain": [
              "   RowNumber  CustomerId   Surname  ...  IsActiveMember EstimatedSalary Exited\n",
              "0          1    15634602  Hargrave  ...               1       101348.88      1\n",
              "1          2    15647311      Hill  ...               1       112542.58      0\n",
              "2          3    15619304      Onio  ...               0       113931.57      1\n",
              "3          4    15701354      Boni  ...               0        93826.63      0\n",
              "\n",
              "[4 rows x 14 columns]"
            ]
          },
          "metadata": {},
          "execution_count": 63
        }
      ]
    },
    {
      "cell_type": "code",
      "metadata": {
        "id": "TinF8sdf9atQ",
        "colab": {
          "base_uri": "https://localhost:8080/"
        },
        "outputId": "ae0dfdb6-e2a0-4edf-9f1b-eeda2fcb8adb"
      },
      "source": [
        "data.info()"
      ],
      "execution_count": null,
      "outputs": [
        {
          "output_type": "stream",
          "name": "stdout",
          "text": [
            "<class 'pandas.core.frame.DataFrame'>\n",
            "RangeIndex: 10000 entries, 0 to 9999\n",
            "Data columns (total 14 columns):\n",
            " #   Column           Non-Null Count  Dtype  \n",
            "---  ------           --------------  -----  \n",
            " 0   RowNumber        10000 non-null  int64  \n",
            " 1   CustomerId       10000 non-null  int64  \n",
            " 2   Surname          10000 non-null  object \n",
            " 3   CreditScore      10000 non-null  int64  \n",
            " 4   Geography        10000 non-null  object \n",
            " 5   Gender           10000 non-null  object \n",
            " 6   Age              10000 non-null  int64  \n",
            " 7   Tenure           10000 non-null  int64  \n",
            " 8   Balance          10000 non-null  float64\n",
            " 9   NumOfProducts    10000 non-null  int64  \n",
            " 10  HasCrCard        10000 non-null  int64  \n",
            " 11  IsActiveMember   10000 non-null  int64  \n",
            " 12  EstimatedSalary  10000 non-null  float64\n",
            " 13  Exited           10000 non-null  int64  \n",
            "dtypes: float64(2), int64(9), object(3)\n",
            "memory usage: 1.1+ MB\n"
          ]
        }
      ]
    },
    {
      "cell_type": "code",
      "metadata": {
        "id": "fX7PPpba973B",
        "colab": {
          "base_uri": "https://localhost:8080/",
          "height": 297
        },
        "outputId": "def22ea3-71bf-4f14-dce6-b0ce663ffb85"
      },
      "source": [
        "data.describe()"
      ],
      "execution_count": null,
      "outputs": [
        {
          "output_type": "execute_result",
          "data": {
            "text/html": [
              "<div>\n",
              "<style scoped>\n",
              "    .dataframe tbody tr th:only-of-type {\n",
              "        vertical-align: middle;\n",
              "    }\n",
              "\n",
              "    .dataframe tbody tr th {\n",
              "        vertical-align: top;\n",
              "    }\n",
              "\n",
              "    .dataframe thead th {\n",
              "        text-align: right;\n",
              "    }\n",
              "</style>\n",
              "<table border=\"1\" class=\"dataframe\">\n",
              "  <thead>\n",
              "    <tr style=\"text-align: right;\">\n",
              "      <th></th>\n",
              "      <th>RowNumber</th>\n",
              "      <th>CustomerId</th>\n",
              "      <th>CreditScore</th>\n",
              "      <th>Age</th>\n",
              "      <th>Tenure</th>\n",
              "      <th>Balance</th>\n",
              "      <th>NumOfProducts</th>\n",
              "      <th>HasCrCard</th>\n",
              "      <th>IsActiveMember</th>\n",
              "      <th>EstimatedSalary</th>\n",
              "      <th>Exited</th>\n",
              "    </tr>\n",
              "  </thead>\n",
              "  <tbody>\n",
              "    <tr>\n",
              "      <th>count</th>\n",
              "      <td>10000.00000</td>\n",
              "      <td>1.000000e+04</td>\n",
              "      <td>10000.000000</td>\n",
              "      <td>10000.000000</td>\n",
              "      <td>10000.000000</td>\n",
              "      <td>10000.000000</td>\n",
              "      <td>10000.000000</td>\n",
              "      <td>10000.00000</td>\n",
              "      <td>10000.000000</td>\n",
              "      <td>10000.000000</td>\n",
              "      <td>10000.000000</td>\n",
              "    </tr>\n",
              "    <tr>\n",
              "      <th>mean</th>\n",
              "      <td>5000.50000</td>\n",
              "      <td>1.569094e+07</td>\n",
              "      <td>650.528800</td>\n",
              "      <td>38.921800</td>\n",
              "      <td>5.012800</td>\n",
              "      <td>76485.889288</td>\n",
              "      <td>1.530200</td>\n",
              "      <td>0.70550</td>\n",
              "      <td>0.515100</td>\n",
              "      <td>100090.239881</td>\n",
              "      <td>0.203700</td>\n",
              "    </tr>\n",
              "    <tr>\n",
              "      <th>std</th>\n",
              "      <td>2886.89568</td>\n",
              "      <td>7.193619e+04</td>\n",
              "      <td>96.653299</td>\n",
              "      <td>10.487806</td>\n",
              "      <td>2.892174</td>\n",
              "      <td>62397.405202</td>\n",
              "      <td>0.581654</td>\n",
              "      <td>0.45584</td>\n",
              "      <td>0.499797</td>\n",
              "      <td>57510.492818</td>\n",
              "      <td>0.402769</td>\n",
              "    </tr>\n",
              "    <tr>\n",
              "      <th>min</th>\n",
              "      <td>1.00000</td>\n",
              "      <td>1.556570e+07</td>\n",
              "      <td>350.000000</td>\n",
              "      <td>18.000000</td>\n",
              "      <td>0.000000</td>\n",
              "      <td>0.000000</td>\n",
              "      <td>1.000000</td>\n",
              "      <td>0.00000</td>\n",
              "      <td>0.000000</td>\n",
              "      <td>11.580000</td>\n",
              "      <td>0.000000</td>\n",
              "    </tr>\n",
              "    <tr>\n",
              "      <th>25%</th>\n",
              "      <td>2500.75000</td>\n",
              "      <td>1.562853e+07</td>\n",
              "      <td>584.000000</td>\n",
              "      <td>32.000000</td>\n",
              "      <td>3.000000</td>\n",
              "      <td>0.000000</td>\n",
              "      <td>1.000000</td>\n",
              "      <td>0.00000</td>\n",
              "      <td>0.000000</td>\n",
              "      <td>51002.110000</td>\n",
              "      <td>0.000000</td>\n",
              "    </tr>\n",
              "    <tr>\n",
              "      <th>50%</th>\n",
              "      <td>5000.50000</td>\n",
              "      <td>1.569074e+07</td>\n",
              "      <td>652.000000</td>\n",
              "      <td>37.000000</td>\n",
              "      <td>5.000000</td>\n",
              "      <td>97198.540000</td>\n",
              "      <td>1.000000</td>\n",
              "      <td>1.00000</td>\n",
              "      <td>1.000000</td>\n",
              "      <td>100193.915000</td>\n",
              "      <td>0.000000</td>\n",
              "    </tr>\n",
              "    <tr>\n",
              "      <th>75%</th>\n",
              "      <td>7500.25000</td>\n",
              "      <td>1.575323e+07</td>\n",
              "      <td>718.000000</td>\n",
              "      <td>44.000000</td>\n",
              "      <td>7.000000</td>\n",
              "      <td>127644.240000</td>\n",
              "      <td>2.000000</td>\n",
              "      <td>1.00000</td>\n",
              "      <td>1.000000</td>\n",
              "      <td>149388.247500</td>\n",
              "      <td>0.000000</td>\n",
              "    </tr>\n",
              "    <tr>\n",
              "      <th>max</th>\n",
              "      <td>10000.00000</td>\n",
              "      <td>1.581569e+07</td>\n",
              "      <td>850.000000</td>\n",
              "      <td>92.000000</td>\n",
              "      <td>10.000000</td>\n",
              "      <td>250898.090000</td>\n",
              "      <td>4.000000</td>\n",
              "      <td>1.00000</td>\n",
              "      <td>1.000000</td>\n",
              "      <td>199992.480000</td>\n",
              "      <td>1.000000</td>\n",
              "    </tr>\n",
              "  </tbody>\n",
              "</table>\n",
              "</div>"
            ],
            "text/plain": [
              "         RowNumber    CustomerId  ...  EstimatedSalary        Exited\n",
              "count  10000.00000  1.000000e+04  ...     10000.000000  10000.000000\n",
              "mean    5000.50000  1.569094e+07  ...    100090.239881      0.203700\n",
              "std     2886.89568  7.193619e+04  ...     57510.492818      0.402769\n",
              "min        1.00000  1.556570e+07  ...        11.580000      0.000000\n",
              "25%     2500.75000  1.562853e+07  ...     51002.110000      0.000000\n",
              "50%     5000.50000  1.569074e+07  ...    100193.915000      0.000000\n",
              "75%     7500.25000  1.575323e+07  ...    149388.247500      0.000000\n",
              "max    10000.00000  1.581569e+07  ...    199992.480000      1.000000\n",
              "\n",
              "[8 rows x 11 columns]"
            ]
          },
          "metadata": {},
          "execution_count": 65
        }
      ]
    },
    {
      "cell_type": "code",
      "metadata": {
        "id": "RKwSmzQU97nY",
        "colab": {
          "base_uri": "https://localhost:8080/",
          "height": 204
        },
        "outputId": "5e17753a-047b-49aa-b328-bc8c6adb9ffb"
      },
      "source": [
        "data.tail()"
      ],
      "execution_count": null,
      "outputs": [
        {
          "output_type": "execute_result",
          "data": {
            "text/html": [
              "<div>\n",
              "<style scoped>\n",
              "    .dataframe tbody tr th:only-of-type {\n",
              "        vertical-align: middle;\n",
              "    }\n",
              "\n",
              "    .dataframe tbody tr th {\n",
              "        vertical-align: top;\n",
              "    }\n",
              "\n",
              "    .dataframe thead th {\n",
              "        text-align: right;\n",
              "    }\n",
              "</style>\n",
              "<table border=\"1\" class=\"dataframe\">\n",
              "  <thead>\n",
              "    <tr style=\"text-align: right;\">\n",
              "      <th></th>\n",
              "      <th>RowNumber</th>\n",
              "      <th>CustomerId</th>\n",
              "      <th>Surname</th>\n",
              "      <th>CreditScore</th>\n",
              "      <th>Geography</th>\n",
              "      <th>Gender</th>\n",
              "      <th>Age</th>\n",
              "      <th>Tenure</th>\n",
              "      <th>Balance</th>\n",
              "      <th>NumOfProducts</th>\n",
              "      <th>HasCrCard</th>\n",
              "      <th>IsActiveMember</th>\n",
              "      <th>EstimatedSalary</th>\n",
              "      <th>Exited</th>\n",
              "    </tr>\n",
              "  </thead>\n",
              "  <tbody>\n",
              "    <tr>\n",
              "      <th>9995</th>\n",
              "      <td>9996</td>\n",
              "      <td>15606229</td>\n",
              "      <td>Obijiaku</td>\n",
              "      <td>771</td>\n",
              "      <td>France</td>\n",
              "      <td>Male</td>\n",
              "      <td>39</td>\n",
              "      <td>5</td>\n",
              "      <td>0.00</td>\n",
              "      <td>2</td>\n",
              "      <td>1</td>\n",
              "      <td>0</td>\n",
              "      <td>96270.64</td>\n",
              "      <td>0</td>\n",
              "    </tr>\n",
              "    <tr>\n",
              "      <th>9996</th>\n",
              "      <td>9997</td>\n",
              "      <td>15569892</td>\n",
              "      <td>Johnstone</td>\n",
              "      <td>516</td>\n",
              "      <td>France</td>\n",
              "      <td>Male</td>\n",
              "      <td>35</td>\n",
              "      <td>10</td>\n",
              "      <td>57369.61</td>\n",
              "      <td>1</td>\n",
              "      <td>1</td>\n",
              "      <td>1</td>\n",
              "      <td>101699.77</td>\n",
              "      <td>0</td>\n",
              "    </tr>\n",
              "    <tr>\n",
              "      <th>9997</th>\n",
              "      <td>9998</td>\n",
              "      <td>15584532</td>\n",
              "      <td>Liu</td>\n",
              "      <td>709</td>\n",
              "      <td>France</td>\n",
              "      <td>Female</td>\n",
              "      <td>36</td>\n",
              "      <td>7</td>\n",
              "      <td>0.00</td>\n",
              "      <td>1</td>\n",
              "      <td>0</td>\n",
              "      <td>1</td>\n",
              "      <td>42085.58</td>\n",
              "      <td>1</td>\n",
              "    </tr>\n",
              "    <tr>\n",
              "      <th>9998</th>\n",
              "      <td>9999</td>\n",
              "      <td>15682355</td>\n",
              "      <td>Sabbatini</td>\n",
              "      <td>772</td>\n",
              "      <td>Germany</td>\n",
              "      <td>Male</td>\n",
              "      <td>42</td>\n",
              "      <td>3</td>\n",
              "      <td>75075.31</td>\n",
              "      <td>2</td>\n",
              "      <td>1</td>\n",
              "      <td>0</td>\n",
              "      <td>92888.52</td>\n",
              "      <td>1</td>\n",
              "    </tr>\n",
              "    <tr>\n",
              "      <th>9999</th>\n",
              "      <td>10000</td>\n",
              "      <td>15628319</td>\n",
              "      <td>Walker</td>\n",
              "      <td>792</td>\n",
              "      <td>France</td>\n",
              "      <td>Female</td>\n",
              "      <td>28</td>\n",
              "      <td>4</td>\n",
              "      <td>130142.79</td>\n",
              "      <td>1</td>\n",
              "      <td>1</td>\n",
              "      <td>0</td>\n",
              "      <td>38190.78</td>\n",
              "      <td>0</td>\n",
              "    </tr>\n",
              "  </tbody>\n",
              "</table>\n",
              "</div>"
            ],
            "text/plain": [
              "      RowNumber  CustomerId    Surname  ...  IsActiveMember EstimatedSalary Exited\n",
              "9995       9996    15606229   Obijiaku  ...               0        96270.64      0\n",
              "9996       9997    15569892  Johnstone  ...               1       101699.77      0\n",
              "9997       9998    15584532        Liu  ...               1        42085.58      1\n",
              "9998       9999    15682355  Sabbatini  ...               0        92888.52      1\n",
              "9999      10000    15628319     Walker  ...               0        38190.78      0\n",
              "\n",
              "[5 rows x 14 columns]"
            ]
          },
          "metadata": {},
          "execution_count": 66
        }
      ]
    },
    {
      "cell_type": "code",
      "metadata": {
        "id": "DKnxi2l3jzWs",
        "colab": {
          "base_uri": "https://localhost:8080/"
        },
        "outputId": "942be7e3-f27b-4414-a45c-c2d69e76ed15"
      },
      "source": [
        "# Checking if our dataset contains any NULL values\n",
        "\n",
        "data.isnull().sum()"
      ],
      "execution_count": null,
      "outputs": [
        {
          "output_type": "execute_result",
          "data": {
            "text/plain": [
              "RowNumber          0\n",
              "CustomerId         0\n",
              "Surname            0\n",
              "CreditScore        0\n",
              "Geography          0\n",
              "Gender             0\n",
              "Age                0\n",
              "Tenure             0\n",
              "Balance            0\n",
              "NumOfProducts      0\n",
              "HasCrCard          0\n",
              "IsActiveMember     0\n",
              "EstimatedSalary    0\n",
              "Exited             0\n",
              "dtype: int64"
            ]
          },
          "metadata": {},
          "execution_count": 67
        }
      ]
    },
    {
      "cell_type": "markdown",
      "metadata": {
        "id": "Cpzuyj7gxwCg"
      },
      "source": [
        "**Data Analysis**"
      ]
    },
    {
      "cell_type": "code",
      "metadata": {
        "id": "N_gQ0bLF-PHe",
        "colab": {
          "base_uri": "https://localhost:8080/"
        },
        "outputId": "2c93edc1-ec9c-4ba0-e600-8e52e397d633"
      },
      "source": [
        "data['Gender'].value_counts()"
      ],
      "execution_count": null,
      "outputs": [
        {
          "output_type": "execute_result",
          "data": {
            "text/plain": [
              "Male      5457\n",
              "Female    4543\n",
              "Name: Gender, dtype: int64"
            ]
          },
          "metadata": {},
          "execution_count": 68
        }
      ]
    },
    {
      "cell_type": "code",
      "metadata": {
        "id": "oFY8xmMnk7fa",
        "colab": {
          "base_uri": "https://localhost:8080/",
          "height": 295
        },
        "outputId": "d0db3fa0-f4f4-4c5e-e607-878f83427eda"
      },
      "source": [
        "# Plotting the features of the dataset to see the correlation between them\n",
        "\n",
        "plt.hist(x = data.Gender, bins = 3, color = 'blue')\n",
        "plt.title('Comparison of male and female')\n",
        "plt.xlabel('Gender')\n",
        "plt.ylabel('Population')\n",
        "plt.show()"
      ],
      "execution_count": null,
      "outputs": [
        {
          "output_type": "display_data",
          "data": {
            "image/png": "[encoded data removed]",
            "text/plain": [
              "<Figure size 432x288 with 1 Axes>"
            ]
          },
          "metadata": {
            "needs_background": "light"
          }
        }
      ]
    },
    {
      "cell_type": "code",
      "metadata": {
        "id": "hJGjglDq-WRG",
        "colab": {
          "base_uri": "https://localhost:8080/"
        },
        "outputId": "0a083dfd-c4ef-46fa-c4d3-71915bf8bd69"
      },
      "source": [
        "data['Age'].value_counts()"
      ],
      "execution_count": null,
      "outputs": [
        {
          "output_type": "execute_result",
          "data": {
            "text/plain": [
              "37    478\n",
              "38    477\n",
              "35    474\n",
              "36    456\n",
              "34    447\n",
              "     ... \n",
              "92      2\n",
              "88      1\n",
              "82      1\n",
              "85      1\n",
              "83      1\n",
              "Name: Age, Length: 70, dtype: int64"
            ]
          },
          "metadata": {},
          "execution_count": 70
        }
      ]
    },
    {
      "cell_type": "code",
      "metadata": {
        "id": "Web4HrNqlou0",
        "colab": {
          "base_uri": "https://localhost:8080/",
          "height": 295
        },
        "outputId": "c440ae4d-4ac0-45c0-b716-f9ddb0d5ce22"
      },
      "source": [
        "# comparison of age in the dataset\n",
        "\n",
        "plt.hist(x = data.Age, bins = 10, color = 'orange')\n",
        "plt.title('Comparison of Age')\n",
        "plt.xlabel('Age')\n",
        "plt.ylabel('Population')\n",
        "plt.show()"
      ],
      "execution_count": null,
      "outputs": [
        {
          "output_type": "display_data",
          "data": {
            "image/png": "[encoded data removed]",
            "text/plain": [
              "<Figure size 432x288 with 1 Axes>"
            ]
          },
          "metadata": {
            "needs_background": "light"
          }
        }
      ]
    },
    {
      "cell_type": "code",
      "metadata": {
        "id": "0W2IB3hu-vRH",
        "colab": {
          "base_uri": "https://localhost:8080/"
        },
        "outputId": "47caa17c-aca7-41f9-9994-79580823f3c1"
      },
      "source": [
        "data['Geography'].value_counts()"
      ],
      "execution_count": null,
      "outputs": [
        {
          "output_type": "execute_result",
          "data": {
            "text/plain": [
              "France     5014\n",
              "Germany    2509\n",
              "Spain      2477\n",
              "Name: Geography, dtype: int64"
            ]
          },
          "metadata": {},
          "execution_count": 72
        }
      ]
    },
    {
      "cell_type": "code",
      "metadata": {
        "id": "CacR8PLhpx6g",
        "colab": {
          "base_uri": "https://localhost:8080/",
          "height": 295
        },
        "outputId": "022ee192-6805-4859-eea8-7f26c5b27551"
      },
      "source": [
        "# comparison of geography\n",
        "\n",
        "plt.hist(x = data.Geography, bins = 5, color = 'green')\n",
        "plt.title('Comparison of Geography')\n",
        "plt.xlabel('Geography')\n",
        "plt.ylabel('Population')\n",
        "plt.show()"
      ],
      "execution_count": null,
      "outputs": [
        {
          "output_type": "display_data",
          "data": {
            "image/png": "[encoded data removed]",
            "text/plain": [
              "<Figure size 432x288 with 1 Axes>"
            ]
          },
          "metadata": {
            "needs_background": "light"
          }
        }
      ]
    },
    {
      "cell_type": "code",
      "metadata": {
        "id": "UqBMAWek-05s",
        "colab": {
          "base_uri": "https://localhost:8080/"
        },
        "outputId": "ca4913e5-c0f8-4b12-ac22-0a2a0291d40a"
      },
      "source": [
        "data['HasCrCard'].value_counts()"
      ],
      "execution_count": null,
      "outputs": [
        {
          "output_type": "execute_result",
          "data": {
            "text/plain": [
              "1    7055\n",
              "0    2945\n",
              "Name: HasCrCard, dtype: int64"
            ]
          },
          "metadata": {},
          "execution_count": 74
        }
      ]
    },
    {
      "cell_type": "code",
      "metadata": {
        "id": "NSgBRAikqXCd",
        "colab": {
          "base_uri": "https://localhost:8080/",
          "height": 295
        },
        "outputId": "b1c03fa7-d8c9-406b-948f-f0ea998afae7"
      },
      "source": [
        "# comparision of how many customers hold the credit card\n",
        "\n",
        "plt.hist(x = data.HasCrCard, bins = 3, color = 'red')\n",
        "plt.title('how many people have or not have the credit card')\n",
        "plt.xlabel('customers holding credit card')\n",
        "plt.ylabel('population')\n",
        "plt.show()"
      ],
      "execution_count": null,
      "outputs": [
        {
          "output_type": "display_data",
          "data": {
            "image/png": "[encoded data removed]",
            "text/plain": [
              "<Figure size 432x288 with 1 Axes>"
            ]
          },
          "metadata": {
            "needs_background": "light"
          }
        }
      ]
    },
    {
      "cell_type": "code",
      "metadata": {
        "id": "UCVDCm0N-9Mb",
        "colab": {
          "base_uri": "https://localhost:8080/"
        },
        "outputId": "7f4901ff-0b46-4a28-bfad-7b2ab259c46b"
      },
      "source": [
        "data['IsActiveMember'].value_counts()"
      ],
      "execution_count": null,
      "outputs": [
        {
          "output_type": "execute_result",
          "data": {
            "text/plain": [
              "1    5151\n",
              "0    4849\n",
              "Name: IsActiveMember, dtype: int64"
            ]
          },
          "metadata": {},
          "execution_count": 76
        }
      ]
    },
    {
      "cell_type": "code",
      "metadata": {
        "id": "_v_jHh6zraHS",
        "colab": {
          "base_uri": "https://localhost:8080/",
          "height": 295
        },
        "outputId": "e6417abc-224b-4b4e-b510-6d6d6daf54e6"
      },
      "source": [
        "# How many active member does the bank have ?\n",
        "\n",
        "plt.hist(x = data.IsActiveMember, bins = 3, color = 'brown')\n",
        "plt.title('Active Members')\n",
        "plt.xlabel('Customers')\n",
        "plt.ylabel('population')\n",
        "plt.show()"
      ],
      "execution_count": null,
      "outputs": [
        {
          "output_type": "display_data",
          "data": {
            "image/png": "[encoded data removed]",
            "text/plain": [
              "<Figure size 432x288 with 1 Axes>"
            ]
          },
          "metadata": {
            "needs_background": "light"
          }
        }
      ]
    },
    {
      "cell_type": "code",
      "metadata": {
        "id": "uubQD4NktRaN",
        "colab": {
          "base_uri": "https://localhost:8080/",
          "height": 499
        },
        "outputId": "ef1f6b67-3364-4783-8f3c-fd5d07e1a044"
      },
      "source": [
        "# comparison between Geography and Gender\n",
        "\n",
        "Gender = pd.crosstab(data['Gender'],data['Geography'])\n",
        "print(Gender)\n",
        "\n",
        "Gender.div(Gender.sum(1).astype(float), axis=0).plot(kind=\"bar\", stacked=True, figsize=(6, 6))\n",
        "#Pandas dataframe.div() is used to find the floating division of the dataframe and other element-wise. \n",
        "#This function is similar to dataframe/other, but with an additional support to handle missing value in one of the input data.\n",
        "#Pandas DataFrame.sum() function is used to return the sum of the values for the requested axis by the user. Here, 1 is used for adding column values.\n",
        "#summing astype(float) for decimal output."
      ],
      "execution_count": null,
      "outputs": [
        {
          "output_type": "stream",
          "name": "stdout",
          "text": [
            "Geography  France  Germany  Spain\n",
            "Gender                           \n",
            "Female       2261     1193   1089\n",
            "Male         2753     1316   1388\n"
          ]
        },
        {
          "output_type": "execute_result",
          "data": {
            "text/plain": [
              "<matplotlib.axes._subplots.AxesSubplot at 0x7f91f65a0710>"
            ]
          },
          "metadata": {},
          "execution_count": 78
        },
        {
          "output_type": "display_data",
          "data": {
            "image/png": "[encoded data removed]",
            "text/plain": [
              "<Figure size 432x432 with 1 Axes>"
            ]
          },
          "metadata": {
            "needs_background": "light"
          }
        }
      ]
    },
    {
      "cell_type": "code",
      "metadata": {
        "id": "i68rxAM1wyTt",
        "colab": {
          "base_uri": "https://localhost:8080/",
          "height": 401
        },
        "outputId": "f28a074c-7f56-4531-cda7-a6d1f1dc8b66"
      },
      "source": [
        "# comparison between geography and card holders\n",
        "\n",
        "HasCrCard = pd.crosstab(data['HasCrCard'], data['Geography'])\n",
        "HasCrCard.div(HasCrCard.sum(1).astype(float), axis = 0).plot(kind = 'bar',\n",
        "                                            stacked = True,figsize = (6, 6))\n",
        "\n"
      ],
      "execution_count": null,
      "outputs": [
        {
          "output_type": "execute_result",
          "data": {
            "text/plain": [
              "<matplotlib.axes._subplots.AxesSubplot at 0x7f91f6533590>"
            ]
          },
          "metadata": {},
          "execution_count": 79
        },
        {
          "output_type": "display_data",
          "data": {
            "image/png": "[encoded data removed]",
            "text/plain": [
              "<Figure size 432x432 with 1 Axes>"
            ]
          },
          "metadata": {
            "needs_background": "light"
          }
        }
      ]
    },
    {
      "cell_type": "code",
      "metadata": {
        "id": "JcSXelsA0nYU",
        "colab": {
          "base_uri": "https://localhost:8080/",
          "height": 401
        },
        "outputId": "24cab7ef-20e0-4dfd-829d-0ae710c3a1c2"
      },
      "source": [
        "# comparison of active member in differnt geographies\n",
        "\n",
        "IsActiveMember = pd.crosstab(data['IsActiveMember'], data['Geography'])\n",
        "IsActiveMember.div(IsActiveMember.sum(1).astype(float), axis = 0).plot(kind = 'bar', \n",
        "                                             stacked = True, figsize= (6, 6))"
      ],
      "execution_count": null,
      "outputs": [
        {
          "output_type": "execute_result",
          "data": {
            "text/plain": [
              "<matplotlib.axes._subplots.AxesSubplot at 0x7f91f6496110>"
            ]
          },
          "metadata": {},
          "execution_count": 80
        },
        {
          "output_type": "display_data",
          "data": {
            "image/png": "[encoded data removed]",
            "text/plain": [
              "<Figure size 432x432 with 1 Axes>"
            ]
          },
          "metadata": {
            "needs_background": "light"
          }
        }
      ]
    },
    {
      "cell_type": "code",
      "metadata": {
        "id": "Y03E7IVV1fOh",
        "colab": {
          "base_uri": "https://localhost:8080/",
          "height": 1000
        },
        "outputId": "b4763fbd-d46e-4cdd-b8ee-f6f967c5845f"
      },
      "source": [
        "# comparing ages in different geographies\n",
        "\n",
        "Age = pd.crosstab(data['Age'], data['Geography'])\n",
        "print(Age)\n",
        "Age.div(Age.sum(1).astype(float), axis = 0).plot(kind = 'bar', \n",
        "                                           stacked = True, figsize = (15,15))"
      ],
      "execution_count": null,
      "outputs": [
        {
          "output_type": "stream",
          "name": "stdout",
          "text": [
            "Geography  France  Germany  Spain\n",
            "Age                              \n",
            "18             11        6      5\n",
            "19             11        8      8\n",
            "20             21        6     13\n",
            "21             31       11     11\n",
            "22             45       11     28\n",
            "..            ...      ...    ...\n",
            "83              0        1      0\n",
            "84              1        1      0\n",
            "85              1        0      0\n",
            "88              0        0      1\n",
            "92              2        0      0\n",
            "\n",
            "[70 rows x 3 columns]\n"
          ]
        },
        {
          "output_type": "execute_result",
          "data": {
            "text/plain": [
              "<matplotlib.axes._subplots.AxesSubplot at 0x7f91f68c4b50>"
            ]
          },
          "metadata": {},
          "execution_count": 81
        },
        {
          "output_type": "display_data",
          "data": {
            "image/png": "[encoded data removed]",
            "text/plain": [
              "<Figure size 1080x1080 with 1 Axes>"
            ]
          },
          "metadata": {
            "needs_background": "light"
          }
        }
      ]
    },
    {
      "cell_type": "code",
      "metadata": {
        "id": "6Vp0UZiK2bTJ",
        "colab": {
          "base_uri": "https://localhost:8080/"
        },
        "outputId": "c898fe34-3624-457e-8062-71efc44fbcd0"
      },
      "source": [
        "# calculating total balance in france, germany and spain\n",
        "\n",
        "total_france = data.Balance[data.Geography == 'France'].sum()\n",
        "total_germany = data.Balance[data.Geography == 'Germany'].sum()\n",
        "total_spain = data.Balance[data.Geography == 'Spain'].sum()\n",
        "\n",
        "print(\"Total Balance in France :\",total_france)\n",
        "print(\"Total Balance in Germany :\",total_germany)\n",
        "print(\"Total Balance in Spain :\",total_spain)\n"
      ],
      "execution_count": null,
      "outputs": [
        {
          "output_type": "stream",
          "name": "stdout",
          "text": [
            "Total Balance in France : 311332479.49\n",
            "Total Balance in Germany : 300402861.38\n",
            "Total Balance in Spain : 153123552.01\n"
          ]
        }
      ]
    },
    {
      "cell_type": "code",
      "metadata": {
        "id": "w6ZyljXl_YB1",
        "colab": {
          "base_uri": "https://localhost:8080/",
          "height": 248
        },
        "outputId": "a4a62df3-e76f-439c-cb62-16d001c83ab9"
      },
      "source": [
        "# plotting a pie chart\n",
        "\n",
        "labels = 'France', 'Germany', 'Spain'\n",
        "colors = ['cyan', 'magenta', 'orange']\n",
        "sizes =  [311, 300, 153]\n",
        "explode = [ 0.01, 0.01, 0.01]\n",
        "\n",
        "plt.pie(sizes, colors = colors, labels = labels, explode = explode, shadow = True)\n",
        "#Maybe you want one of the wedges to stand out? The explode parameter allows you to do that.\n",
        "plt.axis('equal')\n",
        "plt.show()"
      ],
      "execution_count": null,
      "outputs": [
        {
          "output_type": "display_data",
          "data": {
            "image/png": "[encoded data removed]",
            "text/plain": [
              "<Figure size 432x288 with 1 Axes>"
            ]
          },
          "metadata": {}
        }
      ]
    },
    {
      "cell_type": "markdown",
      "metadata": {
        "id": "ss9REZXjU4at"
      },
      "source": [
        "**Data Preprocessing**"
      ]
    },
    {
      "cell_type": "code",
      "metadata": {
        "id": "wce3Hm9XU3XT",
        "colab": {
          "base_uri": "https://localhost:8080/"
        },
        "outputId": "0cc404cd-85d7-4b3c-d821-c1a1784aae4b"
      },
      "source": [
        "# Removing the unnecassary features from the dataset\n",
        "\n",
        "data = data.drop(['CustomerId', 'Surname', 'RowNumber'], axis = 1)\n",
        "\n",
        "print(data.columns)"
      ],
      "execution_count": null,
      "outputs": [
        {
          "output_type": "stream",
          "name": "stdout",
          "text": [
            "Index(['CreditScore', 'Geography', 'Gender', 'Age', 'Tenure', 'Balance',\n",
            "       'NumOfProducts', 'HasCrCard', 'IsActiveMember', 'EstimatedSalary',\n",
            "       'Exited'],\n",
            "      dtype='object')\n"
          ]
        }
      ]
    },
    {
      "cell_type": "code",
      "metadata": {
        "id": "M-UovDqiK5LK",
        "colab": {
          "base_uri": "https://localhost:8080/"
        },
        "outputId": "fcf6b559-7369-4873-e1b3-f26e5a691c6f"
      },
      "source": [
        "data.shape"
      ],
      "execution_count": null,
      "outputs": [
        {
          "output_type": "execute_result",
          "data": {
            "text/plain": [
              "(10000, 11)"
            ]
          },
          "metadata": {},
          "execution_count": 85
        }
      ]
    },
    {
      "cell_type": "code",
      "metadata": {
        "id": "-6e_Flxh7cpa",
        "colab": {
          "base_uri": "https://localhost:8080/"
        },
        "outputId": "c134fb6a-4b6a-4360-9a44-13fd3e172e79"
      },
      "source": [
        "# splitting the dataset into x(independent variables) and y(dependent variables)\n",
        "\n",
        "x = data.drop(['Exited'], axis=1)\n",
        "y = data['Exited']\n",
        "\n",
        "print(x.shape)\n",
        "print(y.shape)\n",
        "\n",
        "print(x.columns)\n",
        "#print(y)"
      ],
      "execution_count": null,
      "outputs": [
        {
          "output_type": "stream",
          "name": "stdout",
          "text": [
            "(10000, 10)\n",
            "(10000,)\n",
            "Index(['CreditScore', 'Geography', 'Gender', 'Age', 'Tenure', 'Balance',\n",
            "       'NumOfProducts', 'HasCrCard', 'IsActiveMember', 'EstimatedSalary'],\n",
            "      dtype='object')\n",
            "0       1\n",
            "1       0\n",
            "2       1\n",
            "3       0\n",
            "4       0\n",
            "       ..\n",
            "9995    0\n",
            "9996    0\n",
            "9997    1\n",
            "9998    1\n",
            "9999    0\n",
            "Name: Exited, Length: 10000, dtype: int64\n"
          ]
        }
      ]
    },
    {
      "cell_type": "code",
      "metadata": {
        "id": "-tIpZZBWZTMu",
        "colab": {
          "base_uri": "https://localhost:8080/",
          "height": 224
        },
        "outputId": "40d83443-6be2-40a0-afa4-48606d8bbebd"
      },
      "source": [
        "# Encoding Categorical variables into numerical variables.\n",
        "# pandas.get_dummies() is used for data manipulation. It converts categorical data into dummy or indicator variables.\n",
        "\n",
        "x = pd.get_dummies(x)\n",
        "\n",
        "x.head()"
      ],
      "execution_count": null,
      "outputs": [
        {
          "output_type": "execute_result",
          "data": {
            "text/html": [
              "<div>\n",
              "<style scoped>\n",
              "    .dataframe tbody tr th:only-of-type {\n",
              "        vertical-align: middle;\n",
              "    }\n",
              "\n",
              "    .dataframe tbody tr th {\n",
              "        vertical-align: top;\n",
              "    }\n",
              "\n",
              "    .dataframe thead th {\n",
              "        text-align: right;\n",
              "    }\n",
              "</style>\n",
              "<table border=\"1\" class=\"dataframe\">\n",
              "  <thead>\n",
              "    <tr style=\"text-align: right;\">\n",
              "      <th></th>\n",
              "      <th>CreditScore</th>\n",
              "      <th>Age</th>\n",
              "      <th>Tenure</th>\n",
              "      <th>Balance</th>\n",
              "      <th>NumOfProducts</th>\n",
              "      <th>HasCrCard</th>\n",
              "      <th>IsActiveMember</th>\n",
              "      <th>EstimatedSalary</th>\n",
              "      <th>Geography_France</th>\n",
              "      <th>Geography_Germany</th>\n",
              "      <th>Geography_Spain</th>\n",
              "      <th>Gender_Female</th>\n",
              "      <th>Gender_Male</th>\n",
              "    </tr>\n",
              "  </thead>\n",
              "  <tbody>\n",
              "    <tr>\n",
              "      <th>0</th>\n",
              "      <td>619</td>\n",
              "      <td>42</td>\n",
              "      <td>2</td>\n",
              "      <td>0.00</td>\n",
              "      <td>1</td>\n",
              "      <td>1</td>\n",
              "      <td>1</td>\n",
              "      <td>101348.88</td>\n",
              "      <td>1</td>\n",
              "      <td>0</td>\n",
              "      <td>0</td>\n",
              "      <td>1</td>\n",
              "      <td>0</td>\n",
              "    </tr>\n",
              "    <tr>\n",
              "      <th>1</th>\n",
              "      <td>608</td>\n",
              "      <td>41</td>\n",
              "      <td>1</td>\n",
              "      <td>83807.86</td>\n",
              "      <td>1</td>\n",
              "      <td>0</td>\n",
              "      <td>1</td>\n",
              "      <td>112542.58</td>\n",
              "      <td>0</td>\n",
              "      <td>0</td>\n",
              "      <td>1</td>\n",
              "      <td>1</td>\n",
              "      <td>0</td>\n",
              "    </tr>\n",
              "    <tr>\n",
              "      <th>2</th>\n",
              "      <td>502</td>\n",
              "      <td>42</td>\n",
              "      <td>8</td>\n",
              "      <td>159660.80</td>\n",
              "      <td>3</td>\n",
              "      <td>1</td>\n",
              "      <td>0</td>\n",
              "      <td>113931.57</td>\n",
              "      <td>1</td>\n",
              "      <td>0</td>\n",
              "      <td>0</td>\n",
              "      <td>1</td>\n",
              "      <td>0</td>\n",
              "    </tr>\n",
              "    <tr>\n",
              "      <th>3</th>\n",
              "      <td>699</td>\n",
              "      <td>39</td>\n",
              "      <td>1</td>\n",
              "      <td>0.00</td>\n",
              "      <td>2</td>\n",
              "      <td>0</td>\n",
              "      <td>0</td>\n",
              "      <td>93826.63</td>\n",
              "      <td>1</td>\n",
              "      <td>0</td>\n",
              "      <td>0</td>\n",
              "      <td>1</td>\n",
              "      <td>0</td>\n",
              "    </tr>\n",
              "    <tr>\n",
              "      <th>4</th>\n",
              "      <td>850</td>\n",
              "      <td>43</td>\n",
              "      <td>2</td>\n",
              "      <td>125510.82</td>\n",
              "      <td>1</td>\n",
              "      <td>1</td>\n",
              "      <td>1</td>\n",
              "      <td>79084.10</td>\n",
              "      <td>0</td>\n",
              "      <td>0</td>\n",
              "      <td>1</td>\n",
              "      <td>1</td>\n",
              "      <td>0</td>\n",
              "    </tr>\n",
              "  </tbody>\n",
              "</table>\n",
              "</div>"
            ],
            "text/plain": [
              "   CreditScore  Age  Tenure  ...  Geography_Spain  Gender_Female  Gender_Male\n",
              "0          619   42       2  ...                0              1            0\n",
              "1          608   41       1  ...                1              1            0\n",
              "2          502   42       8  ...                0              1            0\n",
              "3          699   39       1  ...                0              1            0\n",
              "4          850   43       2  ...                1              1            0\n",
              "\n",
              "[5 rows x 13 columns]"
            ]
          },
          "metadata": {},
          "execution_count": 89
        }
      ]
    },
    {
      "cell_type": "code",
      "metadata": {
        "id": "QUX4XvrtLWGy",
        "colab": {
          "base_uri": "https://localhost:8080/"
        },
        "outputId": "05cf282f-0328-4223-a714-58a3a83c2909"
      },
      "source": [
        "x.shape"
      ],
      "execution_count": null,
      "outputs": [
        {
          "output_type": "execute_result",
          "data": {
            "text/plain": [
              "(10000, 13)"
            ]
          },
          "metadata": {},
          "execution_count": 90
        }
      ]
    },
    {
      "cell_type": "code",
      "metadata": {
        "id": "9RqmZSGX5TcE",
        "colab": {
          "base_uri": "https://localhost:8080/"
        },
        "outputId": "583fb29b-98b4-4f40-a88b-17b2c6d94beb"
      },
      "source": [
        "# splitting the data into training and testing set\n",
        "\n",
        "from sklearn.model_selection import train_test_split\n",
        "x_train, x_test, y_train, y_test = train_test_split(x, y, test_size = 0.25, random_state = 0)\n",
        "\n",
        "print(x_train.shape)\n",
        "print(y_train.shape)\n",
        "print(x_test.shape)\n",
        "print(y_test.shape)"
      ],
      "execution_count": null,
      "outputs": [
        {
          "output_type": "stream",
          "name": "stdout",
          "text": [
            "(7500, 13)\n",
            "(7500,)\n",
            "(2500, 13)\n",
            "(2500,)\n"
          ]
        }
      ]
    },
    {
      "cell_type": "code",
      "metadata": {
        "id": "HMz6rg-_bTzq",
        "colab": {
          "base_uri": "https://localhost:8080/",
          "height": 204
        },
        "outputId": "1313a98a-4021-428d-a444-0d8663be6e82"
      },
      "source": [
        "# Feature Scaling \n",
        "# Only on Independent Variable to convert them into values ranging from -1 to +1\n",
        "\n",
        "from sklearn.preprocessing import StandardScaler\n",
        "\n",
        "sc = StandardScaler()\n",
        "x_train = sc.fit_transform(x_train)\n",
        "x_test = sc.fit_transform(x_test)\n",
        "\n",
        "x_train = pd.DataFrame(x_train)\n",
        "x_train.head()"
      ],
      "execution_count": null,
      "outputs": [
        {
          "output_type": "execute_result",
          "data": {
            "text/html": [
              "<div>\n",
              "<style scoped>\n",
              "    .dataframe tbody tr th:only-of-type {\n",
              "        vertical-align: middle;\n",
              "    }\n",
              "\n",
              "    .dataframe tbody tr th {\n",
              "        vertical-align: top;\n",
              "    }\n",
              "\n",
              "    .dataframe thead th {\n",
              "        text-align: right;\n",
              "    }\n",
              "</style>\n",
              "<table border=\"1\" class=\"dataframe\">\n",
              "  <thead>\n",
              "    <tr style=\"text-align: right;\">\n",
              "      <th></th>\n",
              "      <th>0</th>\n",
              "      <th>1</th>\n",
              "      <th>2</th>\n",
              "      <th>3</th>\n",
              "      <th>4</th>\n",
              "      <th>5</th>\n",
              "      <th>6</th>\n",
              "      <th>7</th>\n",
              "      <th>8</th>\n",
              "      <th>9</th>\n",
              "      <th>10</th>\n",
              "      <th>11</th>\n",
              "      <th>12</th>\n",
              "    </tr>\n",
              "  </thead>\n",
              "  <tbody>\n",
              "    <tr>\n",
              "      <th>0</th>\n",
              "      <td>-0.735507</td>\n",
              "      <td>0.015266</td>\n",
              "      <td>0.008860</td>\n",
              "      <td>0.673160</td>\n",
              "      <td>2.535034</td>\n",
              "      <td>-1.553624</td>\n",
              "      <td>-1.034460</td>\n",
              "      <td>-1.640810</td>\n",
              "      <td>-1.015588</td>\n",
              "      <td>1.760216</td>\n",
              "      <td>-0.574682</td>\n",
              "      <td>1.087261</td>\n",
              "      <td>-1.087261</td>\n",
              "    </tr>\n",
              "    <tr>\n",
              "      <th>1</th>\n",
              "      <td>1.024427</td>\n",
              "      <td>-0.652609</td>\n",
              "      <td>0.008860</td>\n",
              "      <td>-1.207724</td>\n",
              "      <td>0.804242</td>\n",
              "      <td>0.643657</td>\n",
              "      <td>-1.034460</td>\n",
              "      <td>-0.079272</td>\n",
              "      <td>0.984651</td>\n",
              "      <td>-0.568112</td>\n",
              "      <td>-0.574682</td>\n",
              "      <td>1.087261</td>\n",
              "      <td>-1.087261</td>\n",
              "    </tr>\n",
              "    <tr>\n",
              "      <th>2</th>\n",
              "      <td>0.808295</td>\n",
              "      <td>-0.461788</td>\n",
              "      <td>1.393293</td>\n",
              "      <td>-0.356937</td>\n",
              "      <td>0.804242</td>\n",
              "      <td>0.643657</td>\n",
              "      <td>0.966688</td>\n",
              "      <td>-0.996840</td>\n",
              "      <td>-1.015588</td>\n",
              "      <td>-0.568112</td>\n",
              "      <td>1.740094</td>\n",
              "      <td>1.087261</td>\n",
              "      <td>-1.087261</td>\n",
              "    </tr>\n",
              "    <tr>\n",
              "      <th>3</th>\n",
              "      <td>0.396614</td>\n",
              "      <td>-0.080145</td>\n",
              "      <td>0.008860</td>\n",
              "      <td>-0.009356</td>\n",
              "      <td>-0.926551</td>\n",
              "      <td>0.643657</td>\n",
              "      <td>0.966688</td>\n",
              "      <td>-1.591746</td>\n",
              "      <td>-1.015588</td>\n",
              "      <td>-0.568112</td>\n",
              "      <td>1.740094</td>\n",
              "      <td>-0.919743</td>\n",
              "      <td>0.919743</td>\n",
              "    </tr>\n",
              "    <tr>\n",
              "      <th>4</th>\n",
              "      <td>-0.467915</td>\n",
              "      <td>1.255605</td>\n",
              "      <td>0.701077</td>\n",
              "      <td>-1.207724</td>\n",
              "      <td>0.804242</td>\n",
              "      <td>0.643657</td>\n",
              "      <td>0.966688</td>\n",
              "      <td>1.283302</td>\n",
              "      <td>0.984651</td>\n",
              "      <td>-0.568112</td>\n",
              "      <td>-0.574682</td>\n",
              "      <td>-0.919743</td>\n",
              "      <td>0.919743</td>\n",
              "    </tr>\n",
              "  </tbody>\n",
              "</table>\n",
              "</div>"
            ],
            "text/plain": [
              "         0         1         2   ...        10        11        12\n",
              "0 -0.735507  0.015266  0.008860  ... -0.574682  1.087261 -1.087261\n",
              "1  1.024427 -0.652609  0.008860  ... -0.574682  1.087261 -1.087261\n",
              "2  0.808295 -0.461788  1.393293  ...  1.740094  1.087261 -1.087261\n",
              "3  0.396614 -0.080145  0.008860  ...  1.740094 -0.919743  0.919743\n",
              "4 -0.467915  1.255605  0.701077  ... -0.574682 -0.919743  0.919743\n",
              "\n",
              "[5 rows x 13 columns]"
            ]
          },
          "metadata": {},
          "execution_count": 92
        }
      ]
    },
    {
      "cell_type": "markdown",
      "metadata": {
        "id": "0-fUw-Wacj97"
      },
      "source": [
        "**Modelling**"
      ]
    },
    {
      "cell_type": "markdown",
      "metadata": {
        "id": "veMTFqaZgQOI"
      },
      "source": [
        "**Aritificial Neural Networks**"
      ]
    },
    {
      "cell_type": "code",
      "metadata": {
        "id": "U3DQbZVRfR_j"
      },
      "source": [
        "import keras\n",
        "from keras.models import Sequential\n",
        "from keras.layers import Dense"
      ],
      "execution_count": null,
      "outputs": []
    },
    {
      "cell_type": "code",
      "metadata": {
        "id": "xafViQmvgjhV",
        "colab": {
          "base_uri": "https://localhost:8080/"
        },
        "outputId": "6d1b6ed5-c38b-43d1-8589-2486a3318bdd"
      },
      "source": [
        "# creating the model\n",
        "model = Sequential()\n",
        "\n",
        "# first hidden layer\n",
        "model.add(Dense(1, kernel_initializer= 'uniform', activation = 'relu', input_dim = 13))\n",
        "\n",
        "# second hidden layer\n",
        "model.add(Dense(1, kernel_initializer= 'uniform', activation = 'relu'))\n",
        "\n",
        "# third hidden layer\n",
        "model.add(Dense(1, kernel_initializer= 'uniform', activation = 'relu'))\n",
        "\n",
        "# fourth hidden layer\n",
        "model.add(Dense(1, kernel_initializer= 'uniform', activation = 'relu'))\n",
        "\n",
        "# fifth hidden layer\n",
        "model.add(Dense(1, kernel_initializer= 'uniform', activation = 'relu'))\n",
        "\n",
        "# output layer\n",
        "model.add(Dense(1, kernel_initializer= 'uniform', activation = 'sigmoid'))\n",
        "\n",
        "# Compiling the NN\n",
        "# binary_crossentropy loss function used when a binary output is expected\n",
        "model.compile(optimizer = 'adam', loss = 'binary_crossentropy', metrics = ['accuracy']) \n",
        "\n",
        "#Keras Adam Optimizer (Adaptive Moment Estimation) The adam optimizer uses adam algorithm in which the stochastic gradient descent method is \n",
        "#leveraged for performing the optimization process. It is efficient to use and consumes very little memory. \n",
        "#It is appropriate in cases where huge amount of data and parameters are available for usage.\n",
        "\n",
        "model.fit(x_train, y_train, batch_size = 10, epochs = 50)\n"
      ],
      "execution_count": null,
      "outputs": [
        {
          "output_type": "stream",
          "name": "stdout",
          "text": [
            "Epoch 1/50\n",
            "750/750 [==============================] - 2s 1ms/step - loss: 0.6149 - accuracy: 0.7963\n",
            "Epoch 2/50\n",
            "750/750 [==============================] - 1s 2ms/step - loss: 0.5370 - accuracy: 0.7963\n",
            "Epoch 3/50\n",
            "750/750 [==============================] - 1s 1ms/step - loss: 0.5132 - accuracy: 0.7963\n",
            "Epoch 4/50\n",
            "750/750 [==============================] - 1s 1ms/step - loss: 0.5071 - accuracy: 0.7963\n",
            "Epoch 5/50\n",
            "750/750 [==============================] - 1s 1ms/step - loss: 0.5059 - accuracy: 0.7963\n",
            "Epoch 6/50\n",
            "750/750 [==============================] - 1s 1ms/step - loss: 0.5056 - accuracy: 0.7963\n",
            "Epoch 7/50\n",
            "750/750 [==============================] - 1s 1ms/step - loss: 0.5056 - accuracy: 0.7963\n",
            "Epoch 8/50\n",
            "750/750 [==============================] - 1s 1ms/step - loss: 0.5056 - accuracy: 0.7963\n",
            "Epoch 9/50\n",
            "750/750 [==============================] - 1s 1ms/step - loss: 0.5056 - accuracy: 0.7963\n",
            "Epoch 10/50\n",
            "750/750 [==============================] - 1s 1ms/step - loss: 0.5056 - accuracy: 0.7963\n",
            "Epoch 11/50\n",
            "750/750 [==============================] - 1s 1ms/step - loss: 0.5056 - accuracy: 0.7963\n",
            "Epoch 12/50\n",
            "750/750 [==============================] - 1s 1ms/step - loss: 0.5056 - accuracy: 0.7963\n",
            "Epoch 13/50\n",
            "750/750 [==============================] - 1s 1ms/step - loss: 0.5056 - accuracy: 0.7963\n",
            "Epoch 14/50\n",
            "750/750 [==============================] - 1s 1ms/step - loss: 0.5056 - accuracy: 0.7963\n",
            "Epoch 15/50\n",
            "750/750 [==============================] - 1s 1ms/step - loss: 0.5056 - accuracy: 0.7963\n",
            "Epoch 16/50\n",
            "750/750 [==============================] - 1s 1ms/step - loss: 0.5056 - accuracy: 0.7963\n",
            "Epoch 17/50\n",
            "750/750 [==============================] - 1s 1ms/step - loss: 0.5056 - accuracy: 0.7963\n",
            "Epoch 18/50\n",
            "750/750 [==============================] - 1s 1ms/step - loss: 0.5056 - accuracy: 0.7963\n",
            "Epoch 19/50\n",
            "750/750 [==============================] - 1s 1ms/step - loss: 0.5056 - accuracy: 0.7963\n",
            "Epoch 20/50\n",
            "750/750 [==============================] - 1s 1ms/step - loss: 0.5056 - accuracy: 0.7963\n",
            "Epoch 21/50\n",
            "750/750 [==============================] - 1s 1ms/step - loss: 0.5056 - accuracy: 0.7963\n",
            "Epoch 22/50\n",
            "750/750 [==============================] - 1s 1ms/step - loss: 0.5056 - accuracy: 0.7963\n",
            "Epoch 23/50\n",
            "750/750 [==============================] - 1s 1ms/step - loss: 0.5056 - accuracy: 0.7963\n",
            "Epoch 24/50\n",
            "750/750 [==============================] - 1s 1ms/step - loss: 0.5056 - accuracy: 0.7963\n",
            "Epoch 25/50\n",
            "750/750 [==============================] - 1s 1ms/step - loss: 0.5056 - accuracy: 0.7963\n",
            "Epoch 26/50\n",
            "750/750 [==============================] - 1s 1ms/step - loss: 0.5056 - accuracy: 0.7963\n",
            "Epoch 27/50\n",
            "750/750 [==============================] - 1s 1ms/step - loss: 0.5056 - accuracy: 0.7963\n",
            "Epoch 28/50\n",
            "750/750 [==============================] - 1s 1ms/step - loss: 0.5056 - accuracy: 0.7963\n",
            "Epoch 29/50\n",
            "750/750 [==============================] - 1s 1ms/step - loss: 0.5056 - accuracy: 0.7963\n",
            "Epoch 30/50\n",
            "750/750 [==============================] - 1s 1ms/step - loss: 0.5056 - accuracy: 0.7963\n",
            "Epoch 31/50\n",
            "750/750 [==============================] - 1s 1ms/step - loss: 0.5056 - accuracy: 0.7963\n",
            "Epoch 32/50\n",
            "750/750 [==============================] - 1s 1ms/step - loss: 0.5056 - accuracy: 0.7963\n",
            "Epoch 33/50\n",
            "750/750 [==============================] - 1s 1ms/step - loss: 0.5056 - accuracy: 0.7963\n",
            "Epoch 34/50\n",
            "750/750 [==============================] - 1s 1ms/step - loss: 0.5056 - accuracy: 0.7963\n",
            "Epoch 35/50\n",
            "750/750 [==============================] - 1s 1ms/step - loss: 0.5056 - accuracy: 0.7963\n",
            "Epoch 36/50\n",
            "750/750 [==============================] - 1s 1ms/step - loss: 0.5056 - accuracy: 0.7963\n",
            "Epoch 37/50\n",
            "750/750 [==============================] - 1s 1ms/step - loss: 0.5056 - accuracy: 0.7963\n",
            "Epoch 38/50\n",
            "750/750 [==============================] - 1s 1ms/step - loss: 0.5056 - accuracy: 0.7963\n",
            "Epoch 39/50\n",
            "750/750 [==============================] - 1s 1ms/step - loss: 0.5056 - accuracy: 0.7963\n",
            "Epoch 40/50\n",
            "750/750 [==============================] - 1s 1ms/step - loss: 0.5056 - accuracy: 0.7963\n",
            "Epoch 41/50\n",
            "750/750 [==============================] - 1s 1ms/step - loss: 0.5056 - accuracy: 0.7963\n",
            "Epoch 42/50\n",
            "750/750 [==============================] - 1s 1ms/step - loss: 0.5056 - accuracy: 0.7963\n",
            "Epoch 43/50\n",
            "750/750 [==============================] - 1s 1ms/step - loss: 0.5056 - accuracy: 0.7963\n",
            "Epoch 44/50\n",
            "750/750 [==============================] - 1s 1ms/step - loss: 0.5056 - accuracy: 0.7963\n",
            "Epoch 45/50\n",
            "750/750 [==============================] - 1s 1ms/step - loss: 0.5056 - accuracy: 0.7963\n",
            "Epoch 46/50\n",
            "750/750 [==============================] - 1s 1ms/step - loss: 0.5056 - accuracy: 0.7963\n",
            "Epoch 47/50\n",
            "750/750 [==============================] - 1s 1ms/step - loss: 0.5056 - accuracy: 0.7963\n",
            "Epoch 48/50\n",
            "750/750 [==============================] - 1s 1ms/step - loss: 0.5056 - accuracy: 0.7963\n",
            "Epoch 49/50\n",
            "750/750 [==============================] - 1s 1ms/step - loss: 0.5056 - accuracy: 0.7963\n",
            "Epoch 50/50\n",
            "750/750 [==============================] - 1s 1ms/step - loss: 0.5056 - accuracy: 0.7963\n"
          ]
        },
        {
          "output_type": "execute_result",
          "data": {
            "text/plain": [
              "<keras.callbacks.History at 0x7f91f63d0190>"
            ]
          },
          "metadata": {},
          "execution_count": 107
        }
      ]
    },
    {
      "cell_type": "code",
      "metadata": {
        "id": "uVd2MAhXE5Hc",
        "colab": {
          "base_uri": "https://localhost:8080/"
        },
        "outputId": "cdf5a93d-4a49-4f27-c5d1-7c9873d075c8"
      },
      "source": [
        "# creating the model\n",
        "model = Sequential()\n",
        "\n",
        "from keras.layers import Dropout\n",
        "\n",
        "# first hidden layer\n",
        "model.add(Dense(1, kernel_initializer = 'uniform', activation = 'relu', input_dim = 13))\n",
        "model.add(Dropout(0.6))\n",
        "\n",
        "# second hidden layer\n",
        "model.add(Dense(1, kernel_initializer= 'uniform', activation = 'relu'))\n",
        "model.add(Dropout(0.6))\n",
        "\n",
        "# output layer\n",
        "model.add(Dense(1, kernel_initializer= 'uniform', activation = 'sigmoid'))\n",
        "\n",
        "# Compiling the NN\n",
        "# binary_crossentropy loss function used when a binary output is expected\n",
        "model.compile(optimizer = 'adam', loss = 'binary_crossentropy', metrics = ['accuracy']) \n",
        "\n",
        "model.fit(x_train, y_train, batch_size = 10, epochs = 50)\n",
        "\n"
      ],
      "execution_count": null,
      "outputs": [
        {
          "output_type": "stream",
          "name": "stdout",
          "text": [
            "Epoch 1/50\n",
            "750/750 [==============================] - 2s 2ms/step - loss: 0.6172 - accuracy: 0.7963\n",
            "Epoch 2/50\n",
            "750/750 [==============================] - 1s 1ms/step - loss: 0.5379 - accuracy: 0.7963\n",
            "Epoch 3/50\n",
            "750/750 [==============================] - 1s 1ms/step - loss: 0.5134 - accuracy: 0.7963\n",
            "Epoch 4/50\n",
            "750/750 [==============================] - 1s 2ms/step - loss: 0.5071 - accuracy: 0.7963\n",
            "Epoch 5/50\n",
            "750/750 [==============================] - 1s 1ms/step - loss: 0.5058 - accuracy: 0.7963\n",
            "Epoch 6/50\n",
            "750/750 [==============================] - 1s 1ms/step - loss: 0.5056 - accuracy: 0.7963\n",
            "Epoch 7/50\n",
            "750/750 [==============================] - 1s 1ms/step - loss: 0.5056 - accuracy: 0.7963\n",
            "Epoch 8/50\n",
            "750/750 [==============================] - 1s 1ms/step - loss: 0.5056 - accuracy: 0.7963\n",
            "Epoch 9/50\n",
            "750/750 [==============================] - 1s 1ms/step - loss: 0.5056 - accuracy: 0.7963\n",
            "Epoch 10/50\n",
            "750/750 [==============================] - 1s 2ms/step - loss: 0.5055 - accuracy: 0.7963\n",
            "Epoch 11/50\n",
            "750/750 [==============================] - 1s 1ms/step - loss: 0.5056 - accuracy: 0.7963\n",
            "Epoch 12/50\n",
            "750/750 [==============================] - 1s 1ms/step - loss: 0.5056 - accuracy: 0.7963\n",
            "Epoch 13/50\n",
            "750/750 [==============================] - 1s 1ms/step - loss: 0.5056 - accuracy: 0.7963\n",
            "Epoch 14/50\n",
            "750/750 [==============================] - 1s 1ms/step - loss: 0.5056 - accuracy: 0.7963\n",
            "Epoch 15/50\n",
            "750/750 [==============================] - 1s 1ms/step - loss: 0.5056 - accuracy: 0.7963\n",
            "Epoch 16/50\n",
            "750/750 [==============================] - 1s 2ms/step - loss: 0.5056 - accuracy: 0.7963\n",
            "Epoch 17/50\n",
            "750/750 [==============================] - 1s 1ms/step - loss: 0.5056 - accuracy: 0.7963\n",
            "Epoch 18/50\n",
            "750/750 [==============================] - 1s 1ms/step - loss: 0.5056 - accuracy: 0.7963\n",
            "Epoch 19/50\n",
            "750/750 [==============================] - 1s 1ms/step - loss: 0.5056 - accuracy: 0.7963\n",
            "Epoch 20/50\n",
            "750/750 [==============================] - 1s 1ms/step - loss: 0.5056 - accuracy: 0.7963\n",
            "Epoch 21/50\n",
            "750/750 [==============================] - 1s 1ms/step - loss: 0.5056 - accuracy: 0.7963\n",
            "Epoch 22/50\n",
            "750/750 [==============================] - 1s 1ms/step - loss: 0.5056 - accuracy: 0.7963\n",
            "Epoch 23/50\n",
            "750/750 [==============================] - 1s 1ms/step - loss: 0.5056 - accuracy: 0.7963\n",
            "Epoch 24/50\n",
            "750/750 [==============================] - 1s 1ms/step - loss: 0.5056 - accuracy: 0.7963\n",
            "Epoch 25/50\n",
            "750/750 [==============================] - 1s 1ms/step - loss: 0.5056 - accuracy: 0.7963\n",
            "Epoch 26/50\n",
            "750/750 [==============================] - 1s 1ms/step - loss: 0.5056 - accuracy: 0.7963\n",
            "Epoch 27/50\n",
            "750/750 [==============================] - 1s 1ms/step - loss: 0.5056 - accuracy: 0.7963\n",
            "Epoch 28/50\n",
            "750/750 [==============================] - 1s 1ms/step - loss: 0.5056 - accuracy: 0.7963\n",
            "Epoch 29/50\n",
            "750/750 [==============================] - 1s 1ms/step - loss: 0.5056 - accuracy: 0.7963\n",
            "Epoch 30/50\n",
            "750/750 [==============================] - 1s 1ms/step - loss: 0.5056 - accuracy: 0.7963\n",
            "Epoch 31/50\n",
            "750/750 [==============================] - 1s 1ms/step - loss: 0.5056 - accuracy: 0.7963\n",
            "Epoch 32/50\n",
            "750/750 [==============================] - 1s 1ms/step - loss: 0.5056 - accuracy: 0.7963\n",
            "Epoch 33/50\n",
            "750/750 [==============================] - 1s 2ms/step - loss: 0.5056 - accuracy: 0.7963\n",
            "Epoch 34/50\n",
            "750/750 [==============================] - 1s 1ms/step - loss: 0.5056 - accuracy: 0.7963\n",
            "Epoch 35/50\n",
            "750/750 [==============================] - 1s 1ms/step - loss: 0.5056 - accuracy: 0.7963\n",
            "Epoch 36/50\n",
            "750/750 [==============================] - 1s 2ms/step - loss: 0.5056 - accuracy: 0.7963\n",
            "Epoch 37/50\n",
            "750/750 [==============================] - 1s 1ms/step - loss: 0.5056 - accuracy: 0.7963\n",
            "Epoch 38/50\n",
            "750/750 [==============================] - 1s 1ms/step - loss: 0.5056 - accuracy: 0.7963\n",
            "Epoch 39/50\n",
            "750/750 [==============================] - 1s 1ms/step - loss: 0.5056 - accuracy: 0.7963\n",
            "Epoch 40/50\n",
            "750/750 [==============================] - 1s 1ms/step - loss: 0.5056 - accuracy: 0.7963\n",
            "Epoch 41/50\n",
            "750/750 [==============================] - 1s 2ms/step - loss: 0.5056 - accuracy: 0.7963\n",
            "Epoch 42/50\n",
            "750/750 [==============================] - 1s 2ms/step - loss: 0.5056 - accuracy: 0.7963\n",
            "Epoch 43/50\n",
            "750/750 [==============================] - 1s 1ms/step - loss: 0.5056 - accuracy: 0.7963\n",
            "Epoch 44/50\n",
            "750/750 [==============================] - 1s 1ms/step - loss: 0.5056 - accuracy: 0.7963\n",
            "Epoch 45/50\n",
            "750/750 [==============================] - 1s 1ms/step - loss: 0.5056 - accuracy: 0.7963\n",
            "Epoch 46/50\n",
            "750/750 [==============================] - 1s 1ms/step - loss: 0.5056 - accuracy: 0.7963\n",
            "Epoch 47/50\n",
            "750/750 [==============================] - 1s 1ms/step - loss: 0.5056 - accuracy: 0.7963\n",
            "Epoch 48/50\n",
            "750/750 [==============================] - 1s 1ms/step - loss: 0.5056 - accuracy: 0.7963\n",
            "Epoch 49/50\n",
            "750/750 [==============================] - 1s 1ms/step - loss: 0.5056 - accuracy: 0.7963\n",
            "Epoch 50/50\n",
            "750/750 [==============================] - 1s 1ms/step - loss: 0.5056 - accuracy: 0.7963\n"
          ]
        },
        {
          "output_type": "execute_result",
          "data": {
            "text/plain": [
              "<keras.callbacks.History at 0x7f91f192cf50>"
            ]
          },
          "metadata": {},
          "execution_count": 111
        }
      ]
    },
    {
      "cell_type": "code",
      "metadata": {
        "id": "h5YNM3DLFiTf",
        "colab": {
          "base_uri": "https://localhost:8080/"
        },
        "outputId": "c10b5425-b894-4c42-a68a-8426559084f9"
      },
      "source": [
        "# creating the model\n",
        "model = Sequential()\n",
        "\n",
        "# first hidden layer\n",
        "model.add(Dense(6, kernel_initializer= 'uniform', activation = 'relu', input_dim = 13))\n",
        "\n",
        "# output layer\n",
        "model.add(Dense(6, kernel_initializer= 'uniform', activation = 'relu'))\n",
        "\n",
        "# Compiling the NN\n",
        "# binary_crossentropy loss function used when a binary output is expected\n",
        "model.compile(optimizer = 'adam', loss = 'binary_crossentropy', metrics = ['accuracy']) \n",
        "\n",
        "model.fit(x_train, y_train, batch_size = 10, epochs = 50)\n",
        "\n"
      ],
      "execution_count": null,
      "outputs": [
        {
          "output_type": "stream",
          "name": "stdout",
          "text": [
            "Epoch 1/50\n",
            "750/750 [==============================] - 2s 2ms/step - loss: 0.5386 - accuracy: 0.1269\n",
            "Epoch 2/50\n",
            "750/750 [==============================] - 1s 2ms/step - loss: 0.4244 - accuracy: 0.0448\n",
            "Epoch 3/50\n",
            "750/750 [==============================] - 1s 1ms/step - loss: 0.4103 - accuracy: 0.1160\n",
            "Epoch 4/50\n",
            "750/750 [==============================] - 1s 2ms/step - loss: 0.3985 - accuracy: 0.1389\n",
            "Epoch 5/50\n",
            "750/750 [==============================] - 1s 2ms/step - loss: 0.3897 - accuracy: 0.1265\n",
            "Epoch 6/50\n",
            "750/750 [==============================] - 1s 2ms/step - loss: 0.3808 - accuracy: 0.2083\n",
            "Epoch 7/50\n",
            "750/750 [==============================] - 1s 2ms/step - loss: 0.3826 - accuracy: 0.2280\n",
            "Epoch 8/50\n",
            "750/750 [==============================] - 1s 2ms/step - loss: 0.3775 - accuracy: 0.0739\n",
            "Epoch 9/50\n",
            "750/750 [==============================] - 1s 2ms/step - loss: 0.3729 - accuracy: 0.1131\n",
            "Epoch 10/50\n",
            "750/750 [==============================] - 1s 2ms/step - loss: 0.3711 - accuracy: 0.1653\n",
            "Epoch 11/50\n",
            "750/750 [==============================] - 1s 2ms/step - loss: 0.3697 - accuracy: 0.1883\n",
            "Epoch 12/50\n",
            "750/750 [==============================] - 1s 2ms/step - loss: 0.3691 - accuracy: 0.0287\n",
            "Epoch 13/50\n",
            "750/750 [==============================] - 1s 2ms/step - loss: 0.3700 - accuracy: 0.0439\n",
            "Epoch 14/50\n",
            "750/750 [==============================] - 1s 2ms/step - loss: 0.3672 - accuracy: 0.0464\n",
            "Epoch 15/50\n",
            "750/750 [==============================] - 1s 2ms/step - loss: 0.3688 - accuracy: 0.0804\n",
            "Epoch 16/50\n",
            "750/750 [==============================] - 1s 2ms/step - loss: 0.3649 - accuracy: 0.0693\n",
            "Epoch 17/50\n",
            "750/750 [==============================] - 1s 2ms/step - loss: 0.3670 - accuracy: 0.1420\n",
            "Epoch 18/50\n",
            "750/750 [==============================] - 1s 2ms/step - loss: 0.3647 - accuracy: 0.1167\n",
            "Epoch 19/50\n",
            "750/750 [==============================] - 1s 2ms/step - loss: 0.3636 - accuracy: 0.0832\n",
            "Epoch 20/50\n",
            "750/750 [==============================] - 1s 2ms/step - loss: 0.3644 - accuracy: 0.0991\n",
            "Epoch 21/50\n",
            "750/750 [==============================] - 1s 2ms/step - loss: 0.3651 - accuracy: 0.2649\n",
            "Epoch 22/50\n",
            "750/750 [==============================] - 1s 2ms/step - loss: 0.3666 - accuracy: 0.5840\n",
            "Epoch 23/50\n",
            "750/750 [==============================] - 1s 2ms/step - loss: 0.3635 - accuracy: 0.4004\n",
            "Epoch 24/50\n",
            "750/750 [==============================] - 1s 2ms/step - loss: 0.3638 - accuracy: 0.3848\n",
            "Epoch 25/50\n",
            "750/750 [==============================] - 1s 2ms/step - loss: 0.3631 - accuracy: 0.1815\n",
            "Epoch 26/50\n",
            "750/750 [==============================] - 1s 2ms/step - loss: 0.3652 - accuracy: 0.1959\n",
            "Epoch 27/50\n",
            "750/750 [==============================] - 1s 2ms/step - loss: 0.3662 - accuracy: 0.1353\n",
            "Epoch 28/50\n",
            "750/750 [==============================] - 1s 2ms/step - loss: 0.3664 - accuracy: 0.0329\n",
            "Epoch 29/50\n",
            "750/750 [==============================] - 1s 2ms/step - loss: 0.3633 - accuracy: 0.0091\n",
            "Epoch 30/50\n",
            "750/750 [==============================] - 1s 2ms/step - loss: 0.3637 - accuracy: 0.0060\n",
            "Epoch 31/50\n",
            "750/750 [==============================] - 1s 2ms/step - loss: 0.3654 - accuracy: 0.0261\n",
            "Epoch 32/50\n",
            "750/750 [==============================] - 1s 2ms/step - loss: 0.3626 - accuracy: 0.2085\n",
            "Epoch 33/50\n",
            "750/750 [==============================] - 1s 2ms/step - loss: 0.3616 - accuracy: 0.6955\n",
            "Epoch 34/50\n",
            "750/750 [==============================] - 1s 2ms/step - loss: 0.3694 - accuracy: 0.2188\n",
            "Epoch 35/50\n",
            "750/750 [==============================] - 1s 2ms/step - loss: 0.3644 - accuracy: 0.2845\n",
            "Epoch 36/50\n",
            "750/750 [==============================] - 1s 2ms/step - loss: 0.3613 - accuracy: 0.1563\n",
            "Epoch 37/50\n",
            "750/750 [==============================] - 1s 2ms/step - loss: 0.3620 - accuracy: 0.2061\n",
            "Epoch 38/50\n",
            "750/750 [==============================] - 1s 2ms/step - loss: 0.3658 - accuracy: 0.1615\n",
            "Epoch 39/50\n",
            "750/750 [==============================] - 1s 2ms/step - loss: 0.3632 - accuracy: 0.1483\n",
            "Epoch 40/50\n",
            "750/750 [==============================] - 1s 2ms/step - loss: 0.3636 - accuracy: 0.0900\n",
            "Epoch 41/50\n",
            "750/750 [==============================] - 1s 2ms/step - loss: 0.3621 - accuracy: 0.1185\n",
            "Epoch 42/50\n",
            "750/750 [==============================] - 1s 2ms/step - loss: 0.3631 - accuracy: 0.1911\n",
            "Epoch 43/50\n",
            "750/750 [==============================] - 1s 2ms/step - loss: 0.3662 - accuracy: 0.1021\n",
            "Epoch 44/50\n",
            "750/750 [==============================] - 1s 2ms/step - loss: 0.3658 - accuracy: 0.0345\n",
            "Epoch 45/50\n",
            "750/750 [==============================] - 1s 2ms/step - loss: 0.3605 - accuracy: 0.1409\n",
            "Epoch 46/50\n",
            "750/750 [==============================] - 1s 2ms/step - loss: 0.3680 - accuracy: 0.2576\n",
            "Epoch 47/50\n",
            "750/750 [==============================] - 1s 2ms/step - loss: 0.3643 - accuracy: 0.7129\n",
            "Epoch 48/50\n",
            "750/750 [==============================] - 1s 2ms/step - loss: 0.3633 - accuracy: 0.4447\n",
            "Epoch 49/50\n",
            "750/750 [==============================] - 1s 2ms/step - loss: 0.3653 - accuracy: 0.2721\n",
            "Epoch 50/50\n",
            "750/750 [==============================] - 1s 2ms/step - loss: 0.3640 - accuracy: 0.1943\n"
          ]
        },
        {
          "output_type": "execute_result",
          "data": {
            "text/plain": [
              "<keras.callbacks.History at 0x7f91f0885950>"
            ]
          },
          "metadata": {},
          "execution_count": 119
        }
      ]
    },
    {
      "cell_type": "code",
      "metadata": {
        "id": "tlBmG8fVGEb6",
        "colab": {
          "base_uri": "https://localhost:8080/"
        },
        "outputId": "f14cdd89-e5c2-40e7-ec2f-76671592ca31"
      },
      "source": [
        "# creating the model\n",
        "model = Sequential()\n",
        "\n",
        "# first hidden layer\n",
        "model.add(Dense(8, kernel_initializer= 'uniform', activation = 'relu', input_dim = 13))\n",
        "\n",
        "# second hidden layer\n",
        "model.add(Dense(8, kernel_initializer= 'uniform', activation = 'relu'))\n",
        "\n",
        "# output layer\n",
        "model.add(Dense(1, kernel_initializer ='uniform', activation = 'sigmoid'))\n",
        "\n",
        "# Compiling the NN\n",
        "# binary_crossentropy loss function used when a binary output is expected\n",
        "model.compile(optimizer = 'adam', loss = 'binary_crossentropy', metrics = ['accuracy']) \n",
        "\n",
        "model.fit(x_train, y_train, batch_size = 10, epochs = 50)\n",
        "\n"
      ],
      "execution_count": null,
      "outputs": [
        {
          "output_type": "stream",
          "name": "stdout",
          "text": [
            "Epoch 1/50\n",
            "750/750 [==============================] - 2s 2ms/step - loss: 0.4754 - accuracy: 0.7963\n",
            "Epoch 2/50\n",
            "750/750 [==============================] - 1s 2ms/step - loss: 0.4298 - accuracy: 0.7963\n",
            "Epoch 3/50\n",
            "750/750 [==============================] - 1s 1ms/step - loss: 0.4244 - accuracy: 0.7968\n",
            "Epoch 4/50\n",
            "750/750 [==============================] - 1s 1ms/step - loss: 0.4210 - accuracy: 0.8169\n",
            "Epoch 5/50\n",
            "750/750 [==============================] - 1s 1ms/step - loss: 0.4188 - accuracy: 0.8209\n",
            "Epoch 6/50\n",
            "750/750 [==============================] - 1s 1ms/step - loss: 0.4168 - accuracy: 0.8268\n",
            "Epoch 7/50\n",
            "750/750 [==============================] - 1s 1ms/step - loss: 0.4149 - accuracy: 0.8288\n",
            "Epoch 8/50\n",
            "750/750 [==============================] - 1s 1ms/step - loss: 0.4132 - accuracy: 0.8319\n",
            "Epoch 9/50\n",
            "750/750 [==============================] - 1s 1ms/step - loss: 0.4121 - accuracy: 0.8327\n",
            "Epoch 10/50\n",
            "750/750 [==============================] - 1s 2ms/step - loss: 0.4106 - accuracy: 0.8332\n",
            "Epoch 11/50\n",
            "750/750 [==============================] - 1s 1ms/step - loss: 0.4092 - accuracy: 0.8333\n",
            "Epoch 12/50\n",
            "750/750 [==============================] - 1s 1ms/step - loss: 0.4085 - accuracy: 0.8343\n",
            "Epoch 13/50\n",
            "750/750 [==============================] - 1s 1ms/step - loss: 0.4079 - accuracy: 0.8329\n",
            "Epoch 14/50\n",
            "750/750 [==============================] - 1s 1ms/step - loss: 0.4075 - accuracy: 0.8335\n",
            "Epoch 15/50\n",
            "750/750 [==============================] - 1s 1ms/step - loss: 0.4068 - accuracy: 0.8339\n",
            "Epoch 16/50\n",
            "750/750 [==============================] - 1s 1ms/step - loss: 0.4064 - accuracy: 0.8329\n",
            "Epoch 17/50\n",
            "750/750 [==============================] - 1s 1ms/step - loss: 0.4060 - accuracy: 0.8328\n",
            "Epoch 18/50\n",
            "750/750 [==============================] - 1s 1ms/step - loss: 0.4052 - accuracy: 0.8333\n",
            "Epoch 19/50\n",
            "750/750 [==============================] - 1s 1ms/step - loss: 0.4053 - accuracy: 0.8332\n",
            "Epoch 20/50\n",
            "750/750 [==============================] - 1s 1ms/step - loss: 0.4048 - accuracy: 0.8324\n",
            "Epoch 21/50\n",
            "750/750 [==============================] - 1s 1ms/step - loss: 0.4046 - accuracy: 0.8344\n",
            "Epoch 22/50\n",
            "750/750 [==============================] - 1s 1ms/step - loss: 0.4045 - accuracy: 0.8339\n",
            "Epoch 23/50\n",
            "750/750 [==============================] - 1s 1ms/step - loss: 0.4047 - accuracy: 0.8340\n",
            "Epoch 24/50\n",
            "750/750 [==============================] - 1s 1ms/step - loss: 0.4038 - accuracy: 0.8336\n",
            "Epoch 25/50\n",
            "750/750 [==============================] - 1s 2ms/step - loss: 0.4040 - accuracy: 0.8323\n",
            "Epoch 26/50\n",
            "750/750 [==============================] - 1s 1ms/step - loss: 0.4037 - accuracy: 0.8349\n",
            "Epoch 27/50\n",
            "750/750 [==============================] - 1s 1ms/step - loss: 0.4035 - accuracy: 0.8336\n",
            "Epoch 28/50\n",
            "750/750 [==============================] - 1s 1ms/step - loss: 0.4035 - accuracy: 0.8336\n",
            "Epoch 29/50\n",
            "750/750 [==============================] - 1s 1ms/step - loss: 0.4032 - accuracy: 0.8349\n",
            "Epoch 30/50\n",
            "750/750 [==============================] - 1s 1ms/step - loss: 0.4030 - accuracy: 0.8335\n",
            "Epoch 31/50\n",
            "750/750 [==============================] - 1s 1ms/step - loss: 0.4029 - accuracy: 0.8329\n",
            "Epoch 32/50\n",
            "750/750 [==============================] - 1s 1ms/step - loss: 0.4030 - accuracy: 0.8319\n",
            "Epoch 33/50\n",
            "750/750 [==============================] - 1s 1ms/step - loss: 0.4021 - accuracy: 0.8355\n",
            "Epoch 34/50\n",
            "750/750 [==============================] - 1s 1ms/step - loss: 0.4027 - accuracy: 0.8329\n",
            "Epoch 35/50\n",
            "750/750 [==============================] - 1s 1ms/step - loss: 0.4022 - accuracy: 0.8331\n",
            "Epoch 36/50\n",
            "750/750 [==============================] - 1s 2ms/step - loss: 0.4032 - accuracy: 0.8333\n",
            "Epoch 37/50\n",
            "750/750 [==============================] - 1s 1ms/step - loss: 0.4022 - accuracy: 0.8345\n",
            "Epoch 38/50\n",
            "750/750 [==============================] - 1s 1ms/step - loss: 0.4025 - accuracy: 0.8336\n",
            "Epoch 39/50\n",
            "750/750 [==============================] - 1s 1ms/step - loss: 0.4023 - accuracy: 0.8339\n",
            "Epoch 40/50\n",
            "750/750 [==============================] - 1s 1ms/step - loss: 0.4018 - accuracy: 0.8336\n",
            "Epoch 41/50\n",
            "750/750 [==============================] - 1s 1ms/step - loss: 0.4015 - accuracy: 0.8340\n",
            "Epoch 42/50\n",
            "750/750 [==============================] - 1s 1ms/step - loss: 0.4023 - accuracy: 0.8341\n",
            "Epoch 43/50\n",
            "750/750 [==============================] - 1s 1ms/step - loss: 0.4012 - accuracy: 0.8329\n",
            "Epoch 44/50\n",
            "750/750 [==============================] - 1s 1ms/step - loss: 0.4018 - accuracy: 0.8339\n",
            "Epoch 45/50\n",
            "750/750 [==============================] - 1s 2ms/step - loss: 0.4012 - accuracy: 0.8348\n",
            "Epoch 46/50\n",
            "750/750 [==============================] - 1s 1ms/step - loss: 0.4016 - accuracy: 0.8332\n",
            "Epoch 47/50\n",
            "750/750 [==============================] - 1s 2ms/step - loss: 0.4012 - accuracy: 0.8335\n",
            "Epoch 48/50\n",
            "750/750 [==============================] - 1s 1ms/step - loss: 0.4017 - accuracy: 0.8355\n",
            "Epoch 49/50\n",
            "750/750 [==============================] - 1s 2ms/step - loss: 0.4007 - accuracy: 0.8352\n",
            "Epoch 50/50\n",
            "750/750 [==============================] - 1s 1ms/step - loss: 0.4013 - accuracy: 0.8331\n"
          ]
        },
        {
          "output_type": "execute_result",
          "data": {
            "text/plain": [
              "<keras.callbacks.History at 0x7f91f0909a50>"
            ]
          },
          "metadata": {},
          "execution_count": 116
        }
      ]
    },
    {
      "cell_type": "code",
      "metadata": {
        "id": "DLA-gwNvJFsE",
        "colab": {
          "base_uri": "https://localhost:8080/"
        },
        "outputId": "1deef415-a114-4149-be21-aed9d180743b"
      },
      "source": [
        "data.columns"
      ],
      "execution_count": null,
      "outputs": [
        {
          "output_type": "execute_result",
          "data": {
            "text/plain": [
              "Index(['CreditScore', 'Geography', 'Gender', 'Age', 'Tenure', 'Balance',\n",
              "       'NumOfProducts', 'HasCrCard', 'IsActiveMember', 'EstimatedSalary',\n",
              "       'Exited'],\n",
              "      dtype='object')"
            ]
          },
          "metadata": {},
          "execution_count": 120
        }
      ]
    },
    {
      "cell_type": "code",
      "metadata": {
        "id": "WFOvRqg6GeW3",
        "colab": {
          "base_uri": "https://localhost:8080/"
        },
        "outputId": "dde629f1-44c9-4d07-c016-fa034f5b2c66"
      },
      "source": [
        "'''\n",
        "predicting if the costumer having following information will leave the bank or not ?\n",
        "\n",
        "Geography : france\n",
        "Age = 50\n",
        "Credit score = 850\n",
        "Tenure = 4\n",
        "Balance = 150000\n",
        "Number of Products = 5\n",
        "Gender = Female\n",
        "Has Credit Card = yes\n",
        "Is Active Member = yes\n",
        "Estimated Salary = 85000\n",
        "'''\n",
        "\n",
        "new_prediction = model.predict(sc.transform(np.array([[850, 50, 4, 150000, 5, 1, 1, 85000, 1, 0, 0, 1, 0]])))\n",
        "\n",
        "new_prediction = (new_prediction > 0.5 )\n",
        "print(new_prediction)"
      ],
      "execution_count": null,
      "outputs": [
        {
          "output_type": "stream",
          "name": "stdout",
          "text": [
            "[[ True  True  True  True  True  True]]\n"
          ]
        }
      ]
    },
    {
      "cell_type": "code",
      "metadata": {
        "id": "IB8HfZ1yR3dz",
        "colab": {
          "base_uri": "https://localhost:8080/"
        },
        "outputId": "cb1e2e4d-c884-4826-eebe-ffe6778d574e"
      },
      "source": [
        "print(\"Accuracies :\", accuracies)\n",
        "\n",
        "print(\"Mean Accuracy :\", accuracies.mean())\n",
        "print(\"Variance :\", accuracies.std())"
      ],
      "execution_count": null,
      "outputs": [
        {
          "output_type": "stream",
          "name": "stdout",
          "text": [
            "Accuracies : [0.84533334 0.84666669 0.87199998 0.83866668 0.85066664 0.84799999\n",
            " 0.82533336 0.86799997 0.81733334 0.83733332]\n",
            "Mean Accuracy : 0.8449333310127258\n",
            "Variance : 0.015978306110932747\n"
          ]
        }
      ]
    }
  ]
}